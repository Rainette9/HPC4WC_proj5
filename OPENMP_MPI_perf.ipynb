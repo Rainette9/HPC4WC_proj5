{
 "cells": [
  {
   "cell_type": "code",
   "execution_count": 7,
   "id": "630dc726-6143-4d76-8ace-e48bced7dacb",
   "metadata": {},
   "outputs": [
    {
     "name": "stdout",
     "output_type": "stream",
     "text": [
      "Requirement already satisfied: cmcrameri in /users/class179/HPC4WC_venv/lib/python3.12/site-packages (1.9)\n",
      "Requirement already satisfied: matplotlib in /users/class179/HPC4WC_venv/lib/python3.12/site-packages (from cmcrameri) (3.10.3)\n",
      "Requirement already satisfied: numpy in /users/class179/HPC4WC_venv/lib/python3.12/site-packages (from cmcrameri) (2.2.6)\n",
      "Requirement already satisfied: packaging in /users/class179/HPC4WC_venv/lib/python3.12/site-packages (from cmcrameri) (25.0)\n",
      "Requirement already satisfied: contourpy>=1.0.1 in /users/class179/HPC4WC_venv/lib/python3.12/site-packages (from matplotlib->cmcrameri) (1.3.2)\n",
      "Requirement already satisfied: cycler>=0.10 in /users/class179/HPC4WC_venv/lib/python3.12/site-packages (from matplotlib->cmcrameri) (0.12.1)\n",
      "Requirement already satisfied: fonttools>=4.22.0 in /users/class179/HPC4WC_venv/lib/python3.12/site-packages (from matplotlib->cmcrameri) (4.58.4)\n",
      "Requirement already satisfied: kiwisolver>=1.3.1 in /users/class179/HPC4WC_venv/lib/python3.12/site-packages (from matplotlib->cmcrameri) (1.4.8)\n",
      "Requirement already satisfied: pillow>=8 in /users/class179/HPC4WC_venv/lib/python3.12/site-packages (from matplotlib->cmcrameri) (11.2.1)\n",
      "Requirement already satisfied: pyparsing>=2.3.1 in /users/class179/HPC4WC_venv/lib/python3.12/site-packages (from matplotlib->cmcrameri) (3.2.3)\n",
      "Requirement already satisfied: python-dateutil>=2.7 in /users/class179/HPC4WC_venv/lib/python3.12/site-packages (from matplotlib->cmcrameri) (2.9.0.post0)\n",
      "Requirement already satisfied: six>=1.5 in /users/class179/HPC4WC_venv/lib/python3.12/site-packages (from python-dateutil>=2.7->matplotlib->cmcrameri) (1.17.0)\n",
      "\n",
      "\u001b[1m[\u001b[0m\u001b[34;49mnotice\u001b[0m\u001b[1;39;49m]\u001b[0m\u001b[39;49m A new release of pip is available: \u001b[0m\u001b[31;49m25.1.1\u001b[0m\u001b[39;49m -> \u001b[0m\u001b[32;49m25.2\u001b[0m\n",
      "\u001b[1m[\u001b[0m\u001b[34;49mnotice\u001b[0m\u001b[1;39;49m]\u001b[0m\u001b[39;49m To update, run: \u001b[0m\u001b[32;49mpip install --upgrade pip\u001b[0m\n",
      "Collecting pandas\n",
      "  Downloading pandas-2.3.2-cp312-cp312-manylinux_2_17_aarch64.manylinux2014_aarch64.whl.metadata (91 kB)\n",
      "Requirement already satisfied: numpy>=1.26.0 in /users/class179/HPC4WC_venv/lib/python3.12/site-packages (from pandas) (2.2.6)\n",
      "Requirement already satisfied: python-dateutil>=2.8.2 in /users/class179/HPC4WC_venv/lib/python3.12/site-packages (from pandas) (2.9.0.post0)\n",
      "Collecting pytz>=2020.1 (from pandas)\n",
      "  Downloading pytz-2025.2-py2.py3-none-any.whl.metadata (22 kB)\n",
      "Requirement already satisfied: tzdata>=2022.7 in /users/class179/HPC4WC_venv/lib/python3.12/site-packages (from pandas) (2025.2)\n",
      "Requirement already satisfied: six>=1.5 in /users/class179/HPC4WC_venv/lib/python3.12/site-packages (from python-dateutil>=2.8.2->pandas) (1.17.0)\n",
      "Downloading pandas-2.3.2-cp312-cp312-manylinux_2_17_aarch64.manylinux2014_aarch64.whl (11.3 MB)\n",
      "\u001b[2K   \u001b[90m━━━━━━━━━━━━━━━━━━━━━━━━━━━━━━━━━━━━━━━━\u001b[0m \u001b[32m11.3/11.3 MB\u001b[0m \u001b[31m56.9 MB/s\u001b[0m eta \u001b[36m0:00:00\u001b[0m00:01\u001b[0m\n",
      "\u001b[?25hDownloading pytz-2025.2-py2.py3-none-any.whl (509 kB)\n",
      "Installing collected packages: pytz, pandas\n",
      "\u001b[2K   \u001b[90m━━━━━━━━━━━━━━━━━━━━━━━━━━━━━━━━━━━━━━━━\u001b[0m \u001b[32m2/2\u001b[0m [pandas]2m1/2\u001b[0m [pandas]\n",
      "\u001b[1A\u001b[2KSuccessfully installed pandas-2.3.2 pytz-2025.2\n",
      "\n",
      "\u001b[1m[\u001b[0m\u001b[34;49mnotice\u001b[0m\u001b[1;39;49m]\u001b[0m\u001b[39;49m A new release of pip is available: \u001b[0m\u001b[31;49m25.1.1\u001b[0m\u001b[39;49m -> \u001b[0m\u001b[32;49m25.2\u001b[0m\n",
      "\u001b[1m[\u001b[0m\u001b[34;49mnotice\u001b[0m\u001b[1;39;49m]\u001b[0m\u001b[39;49m To update, run: \u001b[0m\u001b[32;49mpip install --upgrade pip\u001b[0m\n"
     ]
    }
   ],
   "source": [
    "!pip install cmcrameri\n",
    "!pip install pandas"
   ]
  },
  {
   "cell_type": "code",
   "execution_count": 1,
   "id": "385f4c5a-dc63-4ca6-9a6f-3e328527bef6",
   "metadata": {},
   "outputs": [],
   "source": [
    "import timeit\n",
    "import matplotlib\n",
    "import matplotlib.pyplot as plt\n",
    "import numpy as np\n",
    "import os\n",
    "from cmcrameri import cm \n",
    "from matplotlib.colors import LogNorm  \n",
    "from mpl_toolkits.mplot3d import Axes3D"
   ]
  },
  {
   "cell_type": "code",
   "execution_count": 2,
   "id": "a8a1673b-205f-43d5-b8e4-e2ef3f16e862",
   "metadata": {},
   "outputs": [
    {
     "data": {
      "text/plain": [
       "'\\nI changed the code so that for each domain size it gives a dims_nxlen_nylen and an out_nxlen_ny_len file, with nxlen and nylen the size of the domain. The dims file give\\nthe dimensions of nx and ny on rank number 0, to see how the domain is split up. Everything you run the code the thread and core number and runtime or dimensions will be\\nappended to those files and it will not get overwritten anymore. \\nThe speedup give the speedup compared to the base configuration of 1 core and 1 thread. \\n\\nI also added a part which allows to run on eiger supercomputer, I was curious if there would be differences, and it seems there is!\\nOn eiger running on 2 mpi tasks is faster than on 4 mpi tasks. Maybe we can add a small part in the report about how it changes per supercomputer architecture.\\n\\nNow the script also writes to either _eiger* files when running on eiger and on no name _nx_ny when running on santis automatically. \\nYou just have to change the file name of the file you read in to plot.\\n\\nWe can try to change the partitioner so it partitions into different shapes?\\n'"
      ]
     },
     "execution_count": 2,
     "metadata": {},
     "output_type": "execute_result"
    }
   ],
   "source": [
    "\"\"\"\n",
    "I changed the code so that for each domain size it gives a dims_nxlen_nylen and an out_nxlen_ny_len file, with nxlen and nylen the size of the domain. The dims file give\n",
    "the dimensions of nx and ny on rank number 0, to see how the domain is split up. Everything you run the code the thread and core number and runtime or dimensions will be\n",
    "appended to those files and it will not get overwritten anymore. \n",
    "The speedup give the speedup compared to the base configuration of 1 core and 1 thread. \n",
    "\n",
    "I also added a part which allows to run on eiger supercomputer, I was curious if there would be differences, and it seems there is!\n",
    "On eiger running on 2 mpi tasks is faster than on 4 mpi tasks. Maybe we can add a small part in the report about how it changes per supercomputer architecture.\n",
    "\n",
    "Now the script also writes to either _eiger* files when running on eiger and on no name _nx_ny when running on santis automatically. \n",
    "You just have to change the file name of the file you read in to plot.\n",
    "\n",
    "We can try to change the partitioner so it partitions into different shapes?\n",
    "\"\"\""
   ]
  },
  {
   "cell_type": "code",
   "execution_count": 3,
   "id": "9347b27d-5b77-4ec2-b6f8-c4ef7c4de2fa",
   "metadata": {},
   "outputs": [],
   "source": [
    "os.environ[\"OMP_NUM_THREADS\"] = \"72\"\n",
    "os.environ[\"OMP_PROC_BIND\"] = \"close\"\n",
    "os.environ[\"OMP_PLACES\"] = \"cores\"\n",
    "# os.environ[\"OMP_STACKSIZE\"] = \"1G\""
   ]
  },
  {
   "cell_type": "code",
   "execution_count": 4,
   "id": "208a8c4a-9622-4177-a621-550c32a57d1b",
   "metadata": {},
   "outputs": [
    {
     "name": "stdout",
     "output_type": "stream",
     "text": [
      "rm -f -rf *~ *.o *.mod *.MOD *.i core.* *.out *.lst *.x *.x+orig *.x+[0-9]* *.dat *.report result_*.py report*.txt perf/*\n",
      "mpif90 -ffree-line-length-none  -g1 -O3 -fno-inline -fno-optimize-sibling-calls -fno-omit-frame-pointer -march=native -funroll-loops -fopenmp -flto -fno-math-errno -c m_utils.F90\n",
      "mpif90 -ffree-line-length-none  -g1 -O3 -fno-inline -fno-optimize-sibling-calls -fno-omit-frame-pointer -march=native -funroll-loops -fopenmp -flto -fno-math-errno -c m_partitioner.F90\n",
      "mpif90 -ffree-line-length-none  -g1 -O3 -fno-inline -fno-optimize-sibling-calls -fno-omit-frame-pointer -march=native -funroll-loops -fopenmp -flto -fno-math-errno -c stencil2d-kparallel_mpi.F90\n",
      "mpif90 -ffree-line-length-none  -g1 -O3 -fno-inline -fno-optimize-sibling-calls -fno-omit-frame-pointer -march=native -funroll-loops -fopenmp -flto -fno-math-errno m_utils.o m_partitioner.o stencil2d-kparallel_mpi.o -o stencil2d-kparallel_mpi.x\n",
      "cp stencil2d-kparallel_mpi.x stencil2d.x\n"
     ]
    }
   ],
   "source": [
    "%%bash\n",
    "if [[ $(hostname -s) == eiger-* ]]; then\n",
    "uenv run prgenv-gnu/24.11:v2 --view=default -- make clean\n",
    "uenv run prgenv-gnu/24.11:v2 --view=default -- make VERSION=kparallel_mpi\n",
    "else\n",
    "make clean\n",
    "make VERSION=kparallel_mpi\n",
    "fi"
   ]
  },
  {
   "cell_type": "code",
   "execution_count": 5,
   "id": "85696810",
   "metadata": {},
   "outputs": [
    {
     "name": "stdout",
     "output_type": "stream",
     "text": [
      "nid005209\n"
     ]
    }
   ],
   "source": [
    "%%bash \n",
    "echo \"$(hostname -s)\"\n",
    "if [[ $(hostname -s) == eiger-* ]]; then\n",
    "    echo \"You are on eiger\"\n",
    "fi"
   ]
  },
  {
   "cell_type": "code",
   "execution_count": 6,
   "id": "3959ea97-6f4b-4ce2-9fae-3d30a57a5294",
   "metadata": {},
   "outputs": [
    {
     "name": "stdout",
     "output_type": "stream",
     "text": [
      "Running with 1 threads and 1 MPI tasks\n",
      "#threads = 1 # ranks nx ny nz num_iter time nx_rank0 ny_rank0 data = np.array( [ \\ [ 128, 128] [ 128, 128] [ 1, 128, 128, 64, 1024, 0.7384414E+00], \\ ] )\n",
      "You are on santis\n",
      "baseline runtime = 0.7384414E+00\n"
     ]
    }
   ],
   "source": [
    "%%bash\n",
    "\n",
    "echo \"runtimes = [[0.0]*11 for _ in range(73)]\" > out.txt\n",
    "echo \"dimensions = [[0.0]*11 for _ in range(73)]\" > dims.txt\n",
    "\n",
    "echo \"runtimes = [[0.0]*11 for _ in range(73)]\" > out_eiger.txt\n",
    "echo \"dimensions = [[0.0]*11 for _ in range(73)]\" > dims_eiger.txt\n",
    "\n",
    "\n",
    "for nthreads in $(seq 1 1); do\n",
    "  export OMP_NUM_THREADS=$nthreads\n",
    "  ncores=$nthreads\n",
    "  if [ $nthreads -gt 72 ]; then\n",
    "    ncores=72\n",
    "  fi\n",
    "\n",
    "  # for nnodes in $(seq 1 6); do\n",
    "  nnodes=1\n",
    "    echo \"Running with $nthreads threads and $nnodes MPI tasks\"\n",
    "    if [[ $(hostname -s) == eiger-* ]]; then\n",
    "        output=$(uenv run prgenv-gnu/24.11:v2 --view=default -- srun -n $nnodes ./stencil2d-kparallel_mpi.x --nx 128 --ny 128 --nz 64 --num_iter 1024)\n",
    "    else    \n",
    "        output=$(srun -n $nnodes ./stencil2d-kparallel_mpi.x --nx 128 --ny 128 --nz 64 --num_iter 1024)\n",
    "    fi\n",
    "    echo $output\n",
    "\n",
    "    data_line=$(echo \"$output\" | grep -oP '\\[\\s*\\d+,\\s*\\d+,\\s*\\d+,\\s*\\d+,\\s*\\d+,\\s*[\\d.E+-]+\\]')\n",
    "    runtime=$(echo \"$data_line\" | sed 's/.*\\[//' | sed 's/\\]//' | cut -d',' -f6 | xargs)\n",
    "    \n",
    "    dims_line=$(echo \"$output\" | grep -oP '\\[\\s*\\d+,\\s*\\d+\\]' | head -n1)\n",
    "    nx=$(echo \"$dims_line\" | sed 's/[][]//g' | cut -d',' -f1 | xargs)\n",
    "    ny=$(echo \"$dims_line\" | sed 's/[][]//g' | cut -d',' -f2 | xargs)\n",
    "       \n",
    "    if [[ $(hostname -s) == eiger-* ]]; then\n",
    "        echo \"You are on eiger\"\n",
    "      printf \"runtimes[%d][%d] = %.6f\\n\" \"$nthreads\" \"$nnodes\" \"$runtime\" >> out_eiger.txt\n",
    "      printf \"dimensions[%d][%d] = [%d, %d]\\n\" \"$nthreads\" \"$nnodes\" \"$nx\" \"$ny\" >> dims_eiger.txt\n",
    "    else\n",
    "        echo \"You are on santis\"\n",
    "      printf \"runtimes[%d][%d] = %.6f\\n\" \"$nthreads\" \"$nnodes\" \"$runtime\" >> out.txt\n",
    "      printf \"dimensions[%d][%d] = [%d, %d]\\n\" \"$nthreads\" \"$nnodes\" \"$nx\" \"$ny\" >> dims.txt\n",
    "    fi\n",
    "    echo \"baseline runtime = $runtime\"\n",
    "    done\n",
    "done\n",
    "done\n",
    "echo $'baseline runtime =$runtime'"
   ]
  },
  {
   "cell_type": "code",
   "execution_count": 7,
   "id": "dd2b83cf-ca86-44fc-a70f-a92b470814fd",
   "metadata": {},
   "outputs": [],
   "source": [
    "def read_field_from_file(filename, num_halo=None):\n",
    "    (rank, nbits, num_halo, nx, ny, nz) = np.fromfile(filename, dtype=np.int32, count=6)\n",
    "    offset = (3 + rank) * 32 // nbits\n",
    "    data = np.fromfile(\n",
    "        filename,\n",
    "        dtype=np.float32 if nbits == 32 else np.float64,\n",
    "        count=nz * ny * nx + offset,\n",
    "    )\n",
    "    if rank == 3:\n",
    "        return np.reshape(data[offset:], (nz, ny, nx))\n",
    "    else:\n",
    "        return np.reshape(data[offset:], (ny, nx))\n",
    "\n",
    "\n",
    "def validate_results():\n",
    "    fig, axs = plt.subplots(1, 2, figsize=(12, 4))\n",
    "\n",
    "    in_field = read_field_from_file(\"in_field.dat\")\n",
    "    im1 = axs[0].imshow(\n",
    "        in_field[in_field.shape[0] // 2, :, :], origin=\"lower\", vmin=-0.1, vmax=1.1\n",
    "    )\n",
    "    fig.colorbar(im1, ax=axs[0])\n",
    "    axs[0].set_title(\"Initial condition\")\n",
    "\n",
    "    out_field = read_field_from_file(\"out_field.dat\")\n",
    "    im2 = axs[1].imshow(\n",
    "        out_field[out_field.shape[0] // 2, :, :], origin=\"lower\", vmin=-0.1, vmax=1.1\n",
    "    )\n",
    "    fig.colorbar(im2, ax=axs[1])\n",
    "    axs[1].set_title(\"Final result\")\n",
    "\n",
    "    plt.show()"
   ]
  },
  {
   "cell_type": "code",
   "execution_count": 8,
   "id": "73863389-808e-43f9-8e68-02e549d60128",
   "metadata": {},
   "outputs": [
    {
     "data": {
      "image/png": "[encoded data removed]",
      "text/plain": [
       "<Figure size 1200x400 with 4 Axes>"
      ]
     },
     "metadata": {},
     "output_type": "display_data"
    }
   ],
   "source": [
    "validate_results()"
   ]
  },
  {
   "cell_type": "code",
   "execution_count": 9,
   "id": "25a510f4-6799-458a-b85c-9364afb1ba79",
   "metadata": {},
   "outputs": [
    {
     "name": "stdout",
     "output_type": "stream",
     "text": [
      " bash_all_rainette.sh   in_field.dat             out_256_256.txt\n",
      " bash_all.sh            Makefile                 out_64_64.txt\n",
      " bash_baseline.sh       m_partitioner.F90        out_eiger.txt\n",
      " bash_onecpu.sh         m_partitioner.mod        out_field.dat\n",
      " dims_1024_1024.txt     m_partitioner.o          out.txt\n",
      " dims_128_128.txt       m_utils.F90              \u001b[0m\u001b[01;32mperf_wrap.sh\u001b[0m*\n",
      " dims_128_256.txt       m_utils.mod              \u001b[01;34mplots\u001b[0m/\n",
      " dims_16_16.txt         m_utils.o                README.md\n",
      " dims_256_128.txt      'OPENMP_MPI (1).ipynb'    stencil2d-base.F90\n",
      " dims_256_256.txt       OPENMP_MPI_clean.ipynb   stencil2d-kparallel.F90\n",
      " dims_64_64.txt         OPENMP_MPI.ipynb         stencil2d-kparallel_mpi.F90\n",
      " dims_eiger.txt         out_1024_1024.txt        stencil2d-kparallel_mpi.o\n",
      " dims.txt               out_128_128.txt          \u001b[01;32mstencil2d-kparallel_mpi.x\u001b[0m*\n",
      " \u001b[01;34mexperiments\u001b[0m/           out_128_256.txt          stencil2d-mpi.F90\n",
      " \u001b[01;34mexperiments_final\u001b[0m/     out_16_16.txt            \u001b[01;32mstencil2d.x\u001b[0m*\n",
      " \u001b[01;34mexperiments_scan\u001b[0m/      out_256_128.txt          utils.h\n"
     ]
    }
   ],
   "source": [
    "ls"
   ]
  },
  {
   "cell_type": "code",
   "execution_count": 10,
   "id": "b07db25c-8600-4088-9127-8558bf065552",
   "metadata": {},
   "outputs": [
    {
     "name": "stdout",
     "output_type": "stream",
     "text": [
      " #threads =           72\n",
      "# ranks nx ny nz num_iter time nx_rank0 ny_rank0\n",
      "data = np.array( [ \\\n",
      "\n",
      "[  128,  128]\n",
      "\n",
      "[  128,  128]\n",
      "[    1,  128,  128,   64,    1024,  0.3455282E+00], \\\n",
      "] )\n"
     ]
    }
   ],
   "source": [
    "%%bash\n",
    "srun -n 1 ./stencil2d-kparallel_mpi.x --nx 128 --ny 128 --nz 64 --num_iter 1024"
   ]
  },
  {
   "cell_type": "code",
   "execution_count": 12,
   "id": "981e2d47-9544-4566-98d0-f3a13b0db103",
   "metadata": {},
   "outputs": [
    {
     "name": "stdout",
     "output_type": "stream",
     "text": [
      " #threads =           72\n",
      "# ranks nx ny nz num_iter time nx_rank0 ny_rank0\n",
      "data = np.array( [ \\\n",
      "\n",
      "[  128,  128]\n",
      "\n",
      "[  128,  128]\n",
      "[    1,  128,  128,   64,    1024,  0.2606254E+00], \\\n",
      "] )\n"
     ]
    },
    {
     "name": "stderr",
     "output_type": "stream",
     "text": [
      "12009.43,msec,task-clock,12009429120,100.00,37.831,CPUs utilized\n",
      "31377505604,,cycles,9417316096,79.52,2.613,GHz\n",
      "160580934199,,instructions,8647093408,72.11,5.12,insn per cycle\n",
      "29458692667,,cache-references,8664866240,72.16,2.453,G/sec\n",
      "98972269,,cache-misses,9330234048,77.55,0.336,of all cache refs\n",
      "<not supported>,,branches,0,100.00,,\n",
      "2054458,,branch-misses,8960840032,74.59,,\n",
      "29584878836,,L1-dcache-loads,9205252448,76.62,2.463,G/sec\n",
      "96966843,,L1-dcache-load-misses,10018318272,83.63,0.33,of all L1-dcache accesses\n",
      "69062919,,LLC-loads,8911410624,74.44,5.751,M/sec\n",
      "45772081,,LLC-load-misses,8449965984,72.13,66.28,of all LL-cache accesses\n"
     ]
    }
   ],
   "source": [
    "%%bash\n",
    "srun -n 1 bash ../perf_wrap.sh ./stencil2d-kparallel_mpi.x --nx 128 --ny 128 --nz 64 --num_iter 1024"
   ]
  },
  {
   "cell_type": "code",
   "execution_count": 47,
   "id": "9769bb2a-8952-4f16-902c-32cd34b16647",
   "metadata": {},
   "outputs": [],
   "source": [
    "nx_len=64\n",
    "ny_len=64"
   ]
  },
  {
   "cell_type": "code",
   "execution_count": 48,
   "id": "34d5a777-9d88-44af-ab11-bc01ff6dccf3",
   "metadata": {},
   "outputs": [
    {
     "name": "stdout",
     "output_type": "stream",
     "text": [
      "nx_len = 64, ny_len = 64\n",
      "Running with 5 threads and 1 MPI tasks\n"
     ]
    },
    {
     "name": "stderr",
     "output_type": "stream",
     "text": [
      "srun: unrecognized option '--bind-to'\n",
      "Try \"srun --help\" for more information\n"
     ]
    },
    {
     "name": "stdout",
     "output_type": "stream",
     "text": [
      "Running with 5 threads and 2 MPI tasks\n"
     ]
    },
    {
     "name": "stderr",
     "output_type": "stream",
     "text": [
      "srun: unrecognized option '--bind-to'\n",
      "Try \"srun --help\" for more information\n"
     ]
    },
    {
     "name": "stdout",
     "output_type": "stream",
     "text": [
      "Running with 5 threads and 3 MPI tasks\n"
     ]
    },
    {
     "name": "stderr",
     "output_type": "stream",
     "text": [
      "srun: unrecognized option '--bind-to'\n",
      "Try \"srun --help\" for more information\n"
     ]
    },
    {
     "name": "stdout",
     "output_type": "stream",
     "text": [
      "Running with 5 threads and 4 MPI tasks\n"
     ]
    },
    {
     "name": "stderr",
     "output_type": "stream",
     "text": [
      "srun: unrecognized option '--bind-to'\n",
      "Try \"srun --help\" for more information\n"
     ]
    },
    {
     "name": "stdout",
     "output_type": "stream",
     "text": [
      "Running with 5 threads and 5 MPI tasks\n"
     ]
    },
    {
     "name": "stderr",
     "output_type": "stream",
     "text": [
      "srun: unrecognized option '--bind-to'\n",
      "Try \"srun --help\" for more information\n"
     ]
    },
    {
     "name": "stdout",
     "output_type": "stream",
     "text": [
      "Running with 5 threads and 6 MPI tasks\n"
     ]
    },
    {
     "name": "stderr",
     "output_type": "stream",
     "text": [
      "srun: unrecognized option '--bind-to'\n",
      "Try \"srun --help\" for more information\n"
     ]
    },
    {
     "name": "stdout",
     "output_type": "stream",
     "text": [
      "Running with 5 threads and 7 MPI tasks\n"
     ]
    },
    {
     "name": "stderr",
     "output_type": "stream",
     "text": [
      "srun: unrecognized option '--bind-to'\n",
      "Try \"srun --help\" for more information\n"
     ]
    },
    {
     "name": "stdout",
     "output_type": "stream",
     "text": [
      "Running with 5 threads and 8 MPI tasks\n"
     ]
    },
    {
     "name": "stderr",
     "output_type": "stream",
     "text": [
      "srun: unrecognized option '--bind-to'\n",
      "Try \"srun --help\" for more information\n"
     ]
    },
    {
     "name": "stdout",
     "output_type": "stream",
     "text": [
      "Running with 5 threads and 9 MPI tasks\n"
     ]
    },
    {
     "name": "stderr",
     "output_type": "stream",
     "text": [
      "srun: unrecognized option '--bind-to'\n",
      "Try \"srun --help\" for more information\n"
     ]
    },
    {
     "name": "stdout",
     "output_type": "stream",
     "text": [
      "Running with 5 threads and 10 MPI tasks\n"
     ]
    },
    {
     "name": "stderr",
     "output_type": "stream",
     "text": [
      "srun: unrecognized option '--bind-to'\n",
      "Try \"srun --help\" for more information\n"
     ]
    },
    {
     "name": "stdout",
     "output_type": "stream",
     "text": [
      "Running with 5 threads and 11 MPI tasks\n"
     ]
    },
    {
     "name": "stderr",
     "output_type": "stream",
     "text": [
      "srun: unrecognized option '--bind-to'\n",
      "Try \"srun --help\" for more information\n"
     ]
    },
    {
     "name": "stdout",
     "output_type": "stream",
     "text": [
      "Running with 5 threads and 12 MPI tasks\n"
     ]
    },
    {
     "name": "stderr",
     "output_type": "stream",
     "text": [
      "srun: unrecognized option '--bind-to'\n",
      "Try \"srun --help\" for more information\n"
     ]
    },
    {
     "name": "stdout",
     "output_type": "stream",
     "text": [
      "Running with 5 threads and 13 MPI tasks\n"
     ]
    },
    {
     "name": "stderr",
     "output_type": "stream",
     "text": [
      "srun: unrecognized option '--bind-to'\n",
      "Try \"srun --help\" for more information\n"
     ]
    },
    {
     "name": "stdout",
     "output_type": "stream",
     "text": [
      "Running with 5 threads and 14 MPI tasks\n"
     ]
    },
    {
     "name": "stderr",
     "output_type": "stream",
     "text": [
      "srun: unrecognized option '--bind-to'\n",
      "Try \"srun --help\" for more information\n"
     ]
    },
    {
     "name": "stdout",
     "output_type": "stream",
     "text": [
      "Running with 5 threads and 15 MPI tasks\n"
     ]
    },
    {
     "name": "stderr",
     "output_type": "stream",
     "text": [
      "srun: unrecognized option '--bind-to'\n",
      "Try \"srun --help\" for more information\n"
     ]
    },
    {
     "name": "stdout",
     "output_type": "stream",
     "text": [
      "Running with 5 threads and 16 MPI tasks\n"
     ]
    },
    {
     "name": "stderr",
     "output_type": "stream",
     "text": [
      "srun: unrecognized option '--bind-to'\n",
      "Try \"srun --help\" for more information\n"
     ]
    },
    {
     "name": "stdout",
     "output_type": "stream",
     "text": [
      "Running with 5 threads and 17 MPI tasks\n"
     ]
    },
    {
     "name": "stderr",
     "output_type": "stream",
     "text": [
      "srun: unrecognized option '--bind-to'\n",
      "Try \"srun --help\" for more information\n"
     ]
    },
    {
     "name": "stdout",
     "output_type": "stream",
     "text": [
      "Running with 5 threads and 18 MPI tasks\n"
     ]
    },
    {
     "name": "stderr",
     "output_type": "stream",
     "text": [
      "srun: unrecognized option '--bind-to'\n",
      "Try \"srun --help\" for more information\n"
     ]
    },
    {
     "name": "stdout",
     "output_type": "stream",
     "text": [
      "Running with 5 threads and 19 MPI tasks\n"
     ]
    },
    {
     "name": "stderr",
     "output_type": "stream",
     "text": [
      "srun: unrecognized option '--bind-to'\n",
      "Try \"srun --help\" for more information\n"
     ]
    },
    {
     "name": "stdout",
     "output_type": "stream",
     "text": [
      "Running with 5 threads and 20 MPI tasks\n"
     ]
    },
    {
     "name": "stderr",
     "output_type": "stream",
     "text": [
      "srun: unrecognized option '--bind-to'\n",
      "Try \"srun --help\" for more information\n"
     ]
    },
    {
     "name": "stdout",
     "output_type": "stream",
     "text": [
      "Running with 6 threads and 1 MPI tasks\n"
     ]
    },
    {
     "name": "stderr",
     "output_type": "stream",
     "text": [
      "srun: unrecognized option '--bind-to'\n",
      "Try \"srun --help\" for more information\n"
     ]
    },
    {
     "name": "stdout",
     "output_type": "stream",
     "text": [
      "Running with 6 threads and 2 MPI tasks\n"
     ]
    },
    {
     "name": "stderr",
     "output_type": "stream",
     "text": [
      "srun: unrecognized option '--bind-to'\n",
      "Try \"srun --help\" for more information\n"
     ]
    },
    {
     "name": "stdout",
     "output_type": "stream",
     "text": [
      "Running with 6 threads and 3 MPI tasks\n"
     ]
    },
    {
     "name": "stderr",
     "output_type": "stream",
     "text": [
      "srun: unrecognized option '--bind-to'\n",
      "Try \"srun --help\" for more information\n"
     ]
    },
    {
     "name": "stdout",
     "output_type": "stream",
     "text": [
      "Running with 6 threads and 4 MPI tasks\n"
     ]
    },
    {
     "name": "stderr",
     "output_type": "stream",
     "text": [
      "srun: unrecognized option '--bind-to'\n",
      "Try \"srun --help\" for more information\n"
     ]
    },
    {
     "name": "stdout",
     "output_type": "stream",
     "text": [
      "Running with 6 threads and 5 MPI tasks\n"
     ]
    },
    {
     "name": "stderr",
     "output_type": "stream",
     "text": [
      "srun: unrecognized option '--bind-to'\n",
      "Try \"srun --help\" for more information\n"
     ]
    },
    {
     "name": "stdout",
     "output_type": "stream",
     "text": [
      "Running with 6 threads and 6 MPI tasks\n"
     ]
    },
    {
     "name": "stderr",
     "output_type": "stream",
     "text": [
      "srun: unrecognized option '--bind-to'\n",
      "Try \"srun --help\" for more information\n"
     ]
    },
    {
     "name": "stdout",
     "output_type": "stream",
     "text": [
      "Running with 6 threads and 7 MPI tasks\n"
     ]
    },
    {
     "name": "stderr",
     "output_type": "stream",
     "text": [
      "srun: unrecognized option '--bind-to'\n",
      "Try \"srun --help\" for more information\n"
     ]
    },
    {
     "name": "stdout",
     "output_type": "stream",
     "text": [
      "Running with 6 threads and 8 MPI tasks\n"
     ]
    },
    {
     "name": "stderr",
     "output_type": "stream",
     "text": [
      "srun: unrecognized option '--bind-to'\n",
      "Try \"srun --help\" for more information\n"
     ]
    },
    {
     "name": "stdout",
     "output_type": "stream",
     "text": [
      "Running with 6 threads and 9 MPI tasks\n"
     ]
    },
    {
     "name": "stderr",
     "output_type": "stream",
     "text": [
      "srun: unrecognized option '--bind-to'\n",
      "Try \"srun --help\" for more information\n"
     ]
    },
    {
     "name": "stdout",
     "output_type": "stream",
     "text": [
      "Running with 6 threads and 10 MPI tasks\n"
     ]
    },
    {
     "name": "stderr",
     "output_type": "stream",
     "text": [
      "srun: unrecognized option '--bind-to'\n",
      "Try \"srun --help\" for more information\n"
     ]
    },
    {
     "name": "stdout",
     "output_type": "stream",
     "text": [
      "Running with 6 threads and 11 MPI tasks\n"
     ]
    },
    {
     "name": "stderr",
     "output_type": "stream",
     "text": [
      "srun: unrecognized option '--bind-to'\n",
      "Try \"srun --help\" for more information\n"
     ]
    },
    {
     "name": "stdout",
     "output_type": "stream",
     "text": [
      "Running with 6 threads and 12 MPI tasks\n"
     ]
    },
    {
     "name": "stderr",
     "output_type": "stream",
     "text": [
      "srun: unrecognized option '--bind-to'\n",
      "Try \"srun --help\" for more information\n"
     ]
    },
    {
     "name": "stdout",
     "output_type": "stream",
     "text": [
      "Running with 6 threads and 13 MPI tasks\n"
     ]
    },
    {
     "name": "stderr",
     "output_type": "stream",
     "text": [
      "srun: unrecognized option '--bind-to'\n",
      "Try \"srun --help\" for more information\n"
     ]
    },
    {
     "name": "stdout",
     "output_type": "stream",
     "text": [
      "Running with 6 threads and 14 MPI tasks\n"
     ]
    },
    {
     "name": "stderr",
     "output_type": "stream",
     "text": [
      "srun: unrecognized option '--bind-to'\n",
      "Try \"srun --help\" for more information\n"
     ]
    },
    {
     "name": "stdout",
     "output_type": "stream",
     "text": [
      "Running with 6 threads and 15 MPI tasks\n"
     ]
    },
    {
     "name": "stderr",
     "output_type": "stream",
     "text": [
      "srun: unrecognized option '--bind-to'\n",
      "Try \"srun --help\" for more information\n"
     ]
    },
    {
     "name": "stdout",
     "output_type": "stream",
     "text": [
      "Running with 6 threads and 16 MPI tasks\n"
     ]
    },
    {
     "name": "stderr",
     "output_type": "stream",
     "text": [
      "srun: unrecognized option '--bind-to'\n",
      "Try \"srun --help\" for more information\n"
     ]
    },
    {
     "name": "stdout",
     "output_type": "stream",
     "text": [
      "Running with 6 threads and 17 MPI tasks\n"
     ]
    },
    {
     "name": "stderr",
     "output_type": "stream",
     "text": [
      "srun: unrecognized option '--bind-to'\n",
      "Try \"srun --help\" for more information\n"
     ]
    },
    {
     "name": "stdout",
     "output_type": "stream",
     "text": [
      "Running with 6 threads and 18 MPI tasks\n"
     ]
    },
    {
     "name": "stderr",
     "output_type": "stream",
     "text": [
      "srun: unrecognized option '--bind-to'\n",
      "Try \"srun --help\" for more information\n"
     ]
    },
    {
     "name": "stdout",
     "output_type": "stream",
     "text": [
      "Running with 6 threads and 19 MPI tasks\n"
     ]
    },
    {
     "name": "stderr",
     "output_type": "stream",
     "text": [
      "srun: unrecognized option '--bind-to'\n",
      "Try \"srun --help\" for more information\n"
     ]
    },
    {
     "name": "stdout",
     "output_type": "stream",
     "text": [
      "Running with 6 threads and 20 MPI tasks\n"
     ]
    },
    {
     "name": "stderr",
     "output_type": "stream",
     "text": [
      "srun: unrecognized option '--bind-to'\n",
      "Try \"srun --help\" for more information\n"
     ]
    },
    {
     "name": "stdout",
     "output_type": "stream",
     "text": [
      "Running with 7 threads and 1 MPI tasks\n"
     ]
    },
    {
     "name": "stderr",
     "output_type": "stream",
     "text": [
      "srun: unrecognized option '--bind-to'\n",
      "Try \"srun --help\" for more information\n"
     ]
    },
    {
     "name": "stdout",
     "output_type": "stream",
     "text": [
      "Running with 7 threads and 2 MPI tasks\n"
     ]
    },
    {
     "name": "stderr",
     "output_type": "stream",
     "text": [
      "srun: unrecognized option '--bind-to'\n",
      "Try \"srun --help\" for more information\n"
     ]
    },
    {
     "name": "stdout",
     "output_type": "stream",
     "text": [
      "Running with 7 threads and 3 MPI tasks\n"
     ]
    },
    {
     "name": "stderr",
     "output_type": "stream",
     "text": [
      "srun: unrecognized option '--bind-to'\n",
      "Try \"srun --help\" for more information\n"
     ]
    },
    {
     "name": "stdout",
     "output_type": "stream",
     "text": [
      "Running with 7 threads and 4 MPI tasks\n"
     ]
    },
    {
     "name": "stderr",
     "output_type": "stream",
     "text": [
      "srun: unrecognized option '--bind-to'\n",
      "Try \"srun --help\" for more information\n"
     ]
    },
    {
     "name": "stdout",
     "output_type": "stream",
     "text": [
      "Running with 7 threads and 5 MPI tasks\n"
     ]
    },
    {
     "name": "stderr",
     "output_type": "stream",
     "text": [
      "srun: unrecognized option '--bind-to'\n",
      "Try \"srun --help\" for more information\n"
     ]
    },
    {
     "name": "stdout",
     "output_type": "stream",
     "text": [
      "Running with 7 threads and 6 MPI tasks\n"
     ]
    },
    {
     "name": "stderr",
     "output_type": "stream",
     "text": [
      "srun: unrecognized option '--bind-to'\n",
      "Try \"srun --help\" for more information\n"
     ]
    },
    {
     "name": "stdout",
     "output_type": "stream",
     "text": [
      "Running with 7 threads and 7 MPI tasks\n"
     ]
    },
    {
     "name": "stderr",
     "output_type": "stream",
     "text": [
      "srun: unrecognized option '--bind-to'\n",
      "Try \"srun --help\" for more information\n"
     ]
    },
    {
     "name": "stdout",
     "output_type": "stream",
     "text": [
      "Running with 7 threads and 8 MPI tasks\n"
     ]
    },
    {
     "name": "stderr",
     "output_type": "stream",
     "text": [
      "srun: unrecognized option '--bind-to'\n",
      "Try \"srun --help\" for more information\n"
     ]
    },
    {
     "name": "stdout",
     "output_type": "stream",
     "text": [
      "Running with 7 threads and 9 MPI tasks\n"
     ]
    },
    {
     "name": "stderr",
     "output_type": "stream",
     "text": [
      "srun: unrecognized option '--bind-to'\n",
      "Try \"srun --help\" for more information\n"
     ]
    },
    {
     "name": "stdout",
     "output_type": "stream",
     "text": [
      "Running with 7 threads and 10 MPI tasks\n"
     ]
    },
    {
     "name": "stderr",
     "output_type": "stream",
     "text": [
      "srun: unrecognized option '--bind-to'\n",
      "Try \"srun --help\" for more information\n"
     ]
    },
    {
     "name": "stdout",
     "output_type": "stream",
     "text": [
      "Running with 7 threads and 11 MPI tasks\n"
     ]
    },
    {
     "name": "stderr",
     "output_type": "stream",
     "text": [
      "srun: unrecognized option '--bind-to'\n",
      "Try \"srun --help\" for more information\n"
     ]
    },
    {
     "name": "stdout",
     "output_type": "stream",
     "text": [
      "Running with 7 threads and 12 MPI tasks\n"
     ]
    },
    {
     "name": "stderr",
     "output_type": "stream",
     "text": [
      "srun: unrecognized option '--bind-to'\n",
      "Try \"srun --help\" for more information\n"
     ]
    },
    {
     "name": "stdout",
     "output_type": "stream",
     "text": [
      "Running with 7 threads and 13 MPI tasks\n"
     ]
    },
    {
     "name": "stderr",
     "output_type": "stream",
     "text": [
      "srun: unrecognized option '--bind-to'\n",
      "Try \"srun --help\" for more information\n"
     ]
    },
    {
     "name": "stdout",
     "output_type": "stream",
     "text": [
      "Running with 7 threads and 14 MPI tasks\n"
     ]
    },
    {
     "name": "stderr",
     "output_type": "stream",
     "text": [
      "srun: unrecognized option '--bind-to'\n",
      "Try \"srun --help\" for more information\n"
     ]
    },
    {
     "name": "stdout",
     "output_type": "stream",
     "text": [
      "Running with 7 threads and 15 MPI tasks\n"
     ]
    },
    {
     "name": "stderr",
     "output_type": "stream",
     "text": [
      "srun: unrecognized option '--bind-to'\n",
      "Try \"srun --help\" for more information\n"
     ]
    },
    {
     "name": "stdout",
     "output_type": "stream",
     "text": [
      "Running with 7 threads and 16 MPI tasks\n"
     ]
    },
    {
     "name": "stderr",
     "output_type": "stream",
     "text": [
      "srun: unrecognized option '--bind-to'\n",
      "Try \"srun --help\" for more information\n"
     ]
    },
    {
     "name": "stdout",
     "output_type": "stream",
     "text": [
      "Running with 7 threads and 17 MPI tasks\n"
     ]
    },
    {
     "name": "stderr",
     "output_type": "stream",
     "text": [
      "srun: unrecognized option '--bind-to'\n",
      "Try \"srun --help\" for more information\n"
     ]
    },
    {
     "name": "stdout",
     "output_type": "stream",
     "text": [
      "Running with 7 threads and 18 MPI tasks\n"
     ]
    },
    {
     "name": "stderr",
     "output_type": "stream",
     "text": [
      "srun: unrecognized option '--bind-to'\n",
      "Try \"srun --help\" for more information\n"
     ]
    },
    {
     "name": "stdout",
     "output_type": "stream",
     "text": [
      "Running with 7 threads and 19 MPI tasks\n"
     ]
    },
    {
     "name": "stderr",
     "output_type": "stream",
     "text": [
      "srun: unrecognized option '--bind-to'\n",
      "Try \"srun --help\" for more information\n"
     ]
    },
    {
     "name": "stdout",
     "output_type": "stream",
     "text": [
      "Running with 7 threads and 20 MPI tasks\n"
     ]
    },
    {
     "name": "stderr",
     "output_type": "stream",
     "text": [
      "srun: unrecognized option '--bind-to'\n",
      "Try \"srun --help\" for more information\n"
     ]
    },
    {
     "name": "stdout",
     "output_type": "stream",
     "text": [
      "Running with 8 threads and 1 MPI tasks\n"
     ]
    },
    {
     "name": "stderr",
     "output_type": "stream",
     "text": [
      "srun: unrecognized option '--bind-to'\n",
      "Try \"srun --help\" for more information\n"
     ]
    },
    {
     "name": "stdout",
     "output_type": "stream",
     "text": [
      "Running with 8 threads and 2 MPI tasks\n"
     ]
    },
    {
     "name": "stderr",
     "output_type": "stream",
     "text": [
      "srun: unrecognized option '--bind-to'\n",
      "Try \"srun --help\" for more information\n"
     ]
    },
    {
     "name": "stdout",
     "output_type": "stream",
     "text": [
      "Running with 8 threads and 3 MPI tasks\n"
     ]
    },
    {
     "name": "stderr",
     "output_type": "stream",
     "text": [
      "srun: unrecognized option '--bind-to'\n",
      "Try \"srun --help\" for more information\n"
     ]
    },
    {
     "name": "stdout",
     "output_type": "stream",
     "text": [
      "Running with 8 threads and 4 MPI tasks\n"
     ]
    },
    {
     "name": "stderr",
     "output_type": "stream",
     "text": [
      "srun: unrecognized option '--bind-to'\n",
      "Try \"srun --help\" for more information\n"
     ]
    },
    {
     "name": "stdout",
     "output_type": "stream",
     "text": [
      "Running with 8 threads and 5 MPI tasks\n"
     ]
    },
    {
     "name": "stderr",
     "output_type": "stream",
     "text": [
      "srun: unrecognized option '--bind-to'\n",
      "Try \"srun --help\" for more information\n"
     ]
    },
    {
     "name": "stdout",
     "output_type": "stream",
     "text": [
      "Running with 8 threads and 6 MPI tasks\n"
     ]
    },
    {
     "name": "stderr",
     "output_type": "stream",
     "text": [
      "srun: unrecognized option '--bind-to'\n",
      "Try \"srun --help\" for more information\n"
     ]
    },
    {
     "name": "stdout",
     "output_type": "stream",
     "text": [
      "Running with 8 threads and 7 MPI tasks\n"
     ]
    },
    {
     "name": "stderr",
     "output_type": "stream",
     "text": [
      "srun: unrecognized option '--bind-to'\n",
      "Try \"srun --help\" for more information\n"
     ]
    },
    {
     "name": "stdout",
     "output_type": "stream",
     "text": [
      "Running with 8 threads and 8 MPI tasks\n"
     ]
    },
    {
     "name": "stderr",
     "output_type": "stream",
     "text": [
      "srun: unrecognized option '--bind-to'\n",
      "Try \"srun --help\" for more information\n"
     ]
    },
    {
     "name": "stdout",
     "output_type": "stream",
     "text": [
      "Running with 8 threads and 9 MPI tasks\n"
     ]
    },
    {
     "name": "stderr",
     "output_type": "stream",
     "text": [
      "srun: unrecognized option '--bind-to'\n",
      "Try \"srun --help\" for more information\n"
     ]
    },
    {
     "name": "stdout",
     "output_type": "stream",
     "text": [
      "Running with 8 threads and 10 MPI tasks\n"
     ]
    },
    {
     "name": "stderr",
     "output_type": "stream",
     "text": [
      "srun: unrecognized option '--bind-to'\n",
      "Try \"srun --help\" for more information\n"
     ]
    },
    {
     "name": "stdout",
     "output_type": "stream",
     "text": [
      "Running with 8 threads and 11 MPI tasks\n"
     ]
    },
    {
     "name": "stderr",
     "output_type": "stream",
     "text": [
      "srun: unrecognized option '--bind-to'\n",
      "Try \"srun --help\" for more information\n"
     ]
    },
    {
     "name": "stdout",
     "output_type": "stream",
     "text": [
      "Running with 8 threads and 12 MPI tasks\n"
     ]
    },
    {
     "name": "stderr",
     "output_type": "stream",
     "text": [
      "srun: unrecognized option '--bind-to'\n",
      "Try \"srun --help\" for more information\n"
     ]
    },
    {
     "name": "stdout",
     "output_type": "stream",
     "text": [
      "Running with 8 threads and 13 MPI tasks\n"
     ]
    },
    {
     "name": "stderr",
     "output_type": "stream",
     "text": [
      "srun: unrecognized option '--bind-to'\n",
      "Try \"srun --help\" for more information\n"
     ]
    },
    {
     "name": "stdout",
     "output_type": "stream",
     "text": [
      "Running with 8 threads and 14 MPI tasks\n"
     ]
    },
    {
     "name": "stderr",
     "output_type": "stream",
     "text": [
      "srun: unrecognized option '--bind-to'\n",
      "Try \"srun --help\" for more information\n"
     ]
    },
    {
     "name": "stdout",
     "output_type": "stream",
     "text": [
      "Running with 8 threads and 15 MPI tasks\n"
     ]
    },
    {
     "name": "stderr",
     "output_type": "stream",
     "text": [
      "srun: unrecognized option '--bind-to'\n",
      "Try \"srun --help\" for more information\n"
     ]
    },
    {
     "name": "stdout",
     "output_type": "stream",
     "text": [
      "Running with 8 threads and 16 MPI tasks\n"
     ]
    },
    {
     "name": "stderr",
     "output_type": "stream",
     "text": [
      "srun: unrecognized option '--bind-to'\n",
      "Try \"srun --help\" for more information\n"
     ]
    },
    {
     "name": "stdout",
     "output_type": "stream",
     "text": [
      "Running with 8 threads and 17 MPI tasks\n"
     ]
    },
    {
     "name": "stderr",
     "output_type": "stream",
     "text": [
      "srun: unrecognized option '--bind-to'\n",
      "Try \"srun --help\" for more information\n"
     ]
    },
    {
     "name": "stdout",
     "output_type": "stream",
     "text": [
      "Running with 8 threads and 18 MPI tasks\n"
     ]
    },
    {
     "name": "stderr",
     "output_type": "stream",
     "text": [
      "srun: unrecognized option '--bind-to'\n",
      "Try \"srun --help\" for more information\n"
     ]
    },
    {
     "name": "stdout",
     "output_type": "stream",
     "text": [
      "Running with 8 threads and 19 MPI tasks\n"
     ]
    },
    {
     "name": "stderr",
     "output_type": "stream",
     "text": [
      "srun: unrecognized option '--bind-to'\n",
      "Try \"srun --help\" for more information\n"
     ]
    },
    {
     "name": "stdout",
     "output_type": "stream",
     "text": [
      "Running with 8 threads and 20 MPI tasks\n"
     ]
    },
    {
     "name": "stderr",
     "output_type": "stream",
     "text": [
      "srun: unrecognized option '--bind-to'\n",
      "Try \"srun --help\" for more information\n"
     ]
    },
    {
     "name": "stdout",
     "output_type": "stream",
     "text": [
      "Running with 9 threads and 1 MPI tasks\n"
     ]
    },
    {
     "name": "stderr",
     "output_type": "stream",
     "text": [
      "srun: unrecognized option '--bind-to'\n",
      "Try \"srun --help\" for more information\n"
     ]
    },
    {
     "name": "stdout",
     "output_type": "stream",
     "text": [
      "Running with 9 threads and 2 MPI tasks\n"
     ]
    },
    {
     "name": "stderr",
     "output_type": "stream",
     "text": [
      "srun: unrecognized option '--bind-to'\n",
      "Try \"srun --help\" for more information\n"
     ]
    },
    {
     "name": "stdout",
     "output_type": "stream",
     "text": [
      "Running with 9 threads and 3 MPI tasks\n"
     ]
    },
    {
     "name": "stderr",
     "output_type": "stream",
     "text": [
      "srun: unrecognized option '--bind-to'\n",
      "Try \"srun --help\" for more information\n"
     ]
    },
    {
     "name": "stdout",
     "output_type": "stream",
     "text": [
      "Running with 9 threads and 4 MPI tasks\n"
     ]
    },
    {
     "name": "stderr",
     "output_type": "stream",
     "text": [
      "srun: unrecognized option '--bind-to'\n",
      "Try \"srun --help\" for more information\n"
     ]
    },
    {
     "name": "stdout",
     "output_type": "stream",
     "text": [
      "Running with 9 threads and 5 MPI tasks\n"
     ]
    },
    {
     "name": "stderr",
     "output_type": "stream",
     "text": [
      "srun: unrecognized option '--bind-to'\n",
      "Try \"srun --help\" for more information\n"
     ]
    },
    {
     "name": "stdout",
     "output_type": "stream",
     "text": [
      "Running with 9 threads and 6 MPI tasks\n"
     ]
    },
    {
     "name": "stderr",
     "output_type": "stream",
     "text": [
      "srun: unrecognized option '--bind-to'\n",
      "Try \"srun --help\" for more information\n"
     ]
    },
    {
     "name": "stdout",
     "output_type": "stream",
     "text": [
      "Running with 9 threads and 7 MPI tasks\n"
     ]
    },
    {
     "name": "stderr",
     "output_type": "stream",
     "text": [
      "srun: unrecognized option '--bind-to'\n",
      "Try \"srun --help\" for more information\n"
     ]
    },
    {
     "name": "stdout",
     "output_type": "stream",
     "text": [
      "Running with 9 threads and 8 MPI tasks\n"
     ]
    },
    {
     "name": "stderr",
     "output_type": "stream",
     "text": [
      "srun: unrecognized option '--bind-to'\n",
      "Try \"srun --help\" for more information\n"
     ]
    },
    {
     "name": "stdout",
     "output_type": "stream",
     "text": [
      "Running with 9 threads and 9 MPI tasks\n"
     ]
    },
    {
     "name": "stderr",
     "output_type": "stream",
     "text": [
      "srun: unrecognized option '--bind-to'\n",
      "Try \"srun --help\" for more information\n"
     ]
    },
    {
     "name": "stdout",
     "output_type": "stream",
     "text": [
      "Running with 9 threads and 10 MPI tasks\n"
     ]
    },
    {
     "name": "stderr",
     "output_type": "stream",
     "text": [
      "srun: unrecognized option '--bind-to'\n",
      "Try \"srun --help\" for more information\n"
     ]
    },
    {
     "name": "stdout",
     "output_type": "stream",
     "text": [
      "Running with 9 threads and 11 MPI tasks\n"
     ]
    },
    {
     "name": "stderr",
     "output_type": "stream",
     "text": [
      "srun: unrecognized option '--bind-to'\n",
      "Try \"srun --help\" for more information\n"
     ]
    },
    {
     "name": "stdout",
     "output_type": "stream",
     "text": [
      "Running with 9 threads and 12 MPI tasks\n"
     ]
    },
    {
     "name": "stderr",
     "output_type": "stream",
     "text": [
      "srun: unrecognized option '--bind-to'\n",
      "Try \"srun --help\" for more information\n"
     ]
    },
    {
     "name": "stdout",
     "output_type": "stream",
     "text": [
      "Running with 9 threads and 13 MPI tasks\n"
     ]
    },
    {
     "name": "stderr",
     "output_type": "stream",
     "text": [
      "srun: unrecognized option '--bind-to'\n",
      "Try \"srun --help\" for more information\n"
     ]
    },
    {
     "name": "stdout",
     "output_type": "stream",
     "text": [
      "Running with 9 threads and 14 MPI tasks\n"
     ]
    },
    {
     "name": "stderr",
     "output_type": "stream",
     "text": [
      "srun: unrecognized option '--bind-to'\n",
      "Try \"srun --help\" for more information\n"
     ]
    },
    {
     "name": "stdout",
     "output_type": "stream",
     "text": [
      "Running with 9 threads and 15 MPI tasks\n"
     ]
    },
    {
     "name": "stderr",
     "output_type": "stream",
     "text": [
      "srun: unrecognized option '--bind-to'\n",
      "Try \"srun --help\" for more information\n"
     ]
    },
    {
     "name": "stdout",
     "output_type": "stream",
     "text": [
      "Running with 9 threads and 16 MPI tasks\n"
     ]
    },
    {
     "name": "stderr",
     "output_type": "stream",
     "text": [
      "srun: unrecognized option '--bind-to'\n",
      "Try \"srun --help\" for more information\n"
     ]
    },
    {
     "name": "stdout",
     "output_type": "stream",
     "text": [
      "Running with 9 threads and 17 MPI tasks\n"
     ]
    },
    {
     "name": "stderr",
     "output_type": "stream",
     "text": [
      "srun: unrecognized option '--bind-to'\n",
      "Try \"srun --help\" for more information\n"
     ]
    },
    {
     "name": "stdout",
     "output_type": "stream",
     "text": [
      "Running with 9 threads and 18 MPI tasks\n"
     ]
    },
    {
     "name": "stderr",
     "output_type": "stream",
     "text": [
      "srun: unrecognized option '--bind-to'\n",
      "Try \"srun --help\" for more information\n"
     ]
    },
    {
     "name": "stdout",
     "output_type": "stream",
     "text": [
      "Running with 9 threads and 19 MPI tasks\n"
     ]
    },
    {
     "name": "stderr",
     "output_type": "stream",
     "text": [
      "srun: unrecognized option '--bind-to'\n",
      "Try \"srun --help\" for more information\n"
     ]
    },
    {
     "name": "stdout",
     "output_type": "stream",
     "text": [
      "Running with 9 threads and 20 MPI tasks\n"
     ]
    },
    {
     "name": "stderr",
     "output_type": "stream",
     "text": [
      "srun: unrecognized option '--bind-to'\n",
      "Try \"srun --help\" for more information\n"
     ]
    },
    {
     "name": "stdout",
     "output_type": "stream",
     "text": [
      "Running with 10 threads and 1 MPI tasks\n"
     ]
    },
    {
     "name": "stderr",
     "output_type": "stream",
     "text": [
      "srun: unrecognized option '--bind-to'\n",
      "Try \"srun --help\" for more information\n"
     ]
    },
    {
     "name": "stdout",
     "output_type": "stream",
     "text": [
      "Running with 10 threads and 2 MPI tasks\n"
     ]
    },
    {
     "name": "stderr",
     "output_type": "stream",
     "text": [
      "srun: unrecognized option '--bind-to'\n",
      "Try \"srun --help\" for more information\n"
     ]
    },
    {
     "name": "stdout",
     "output_type": "stream",
     "text": [
      "Running with 10 threads and 3 MPI tasks\n"
     ]
    },
    {
     "name": "stderr",
     "output_type": "stream",
     "text": [
      "srun: unrecognized option '--bind-to'\n",
      "Try \"srun --help\" for more information\n"
     ]
    },
    {
     "name": "stdout",
     "output_type": "stream",
     "text": [
      "Running with 10 threads and 4 MPI tasks\n"
     ]
    },
    {
     "name": "stderr",
     "output_type": "stream",
     "text": [
      "srun: unrecognized option '--bind-to'\n",
      "Try \"srun --help\" for more information\n"
     ]
    },
    {
     "name": "stdout",
     "output_type": "stream",
     "text": [
      "Running with 10 threads and 5 MPI tasks\n"
     ]
    },
    {
     "name": "stderr",
     "output_type": "stream",
     "text": [
      "srun: unrecognized option '--bind-to'\n",
      "Try \"srun --help\" for more information\n"
     ]
    },
    {
     "name": "stdout",
     "output_type": "stream",
     "text": [
      "Running with 10 threads and 6 MPI tasks\n"
     ]
    },
    {
     "name": "stderr",
     "output_type": "stream",
     "text": [
      "srun: unrecognized option '--bind-to'\n",
      "Try \"srun --help\" for more information\n"
     ]
    },
    {
     "name": "stdout",
     "output_type": "stream",
     "text": [
      "Running with 10 threads and 7 MPI tasks\n"
     ]
    },
    {
     "name": "stderr",
     "output_type": "stream",
     "text": [
      "srun: unrecognized option '--bind-to'\n",
      "Try \"srun --help\" for more information\n"
     ]
    },
    {
     "name": "stdout",
     "output_type": "stream",
     "text": [
      "Running with 10 threads and 8 MPI tasks\n"
     ]
    },
    {
     "name": "stderr",
     "output_type": "stream",
     "text": [
      "srun: unrecognized option '--bind-to'\n",
      "Try \"srun --help\" for more information\n"
     ]
    },
    {
     "name": "stdout",
     "output_type": "stream",
     "text": [
      "Running with 10 threads and 9 MPI tasks\n"
     ]
    },
    {
     "name": "stderr",
     "output_type": "stream",
     "text": [
      "srun: unrecognized option '--bind-to'\n",
      "Try \"srun --help\" for more information\n"
     ]
    },
    {
     "name": "stdout",
     "output_type": "stream",
     "text": [
      "Running with 10 threads and 10 MPI tasks\n"
     ]
    },
    {
     "name": "stderr",
     "output_type": "stream",
     "text": [
      "srun: unrecognized option '--bind-to'\n",
      "Try \"srun --help\" for more information\n"
     ]
    },
    {
     "name": "stdout",
     "output_type": "stream",
     "text": [
      "Running with 10 threads and 11 MPI tasks\n"
     ]
    },
    {
     "name": "stderr",
     "output_type": "stream",
     "text": [
      "srun: unrecognized option '--bind-to'\n",
      "Try \"srun --help\" for more information\n"
     ]
    },
    {
     "name": "stdout",
     "output_type": "stream",
     "text": [
      "Running with 10 threads and 12 MPI tasks\n"
     ]
    },
    {
     "name": "stderr",
     "output_type": "stream",
     "text": [
      "srun: unrecognized option '--bind-to'\n",
      "Try \"srun --help\" for more information\n"
     ]
    },
    {
     "name": "stdout",
     "output_type": "stream",
     "text": [
      "Running with 10 threads and 13 MPI tasks\n"
     ]
    },
    {
     "name": "stderr",
     "output_type": "stream",
     "text": [
      "srun: unrecognized option '--bind-to'\n",
      "Try \"srun --help\" for more information\n"
     ]
    },
    {
     "name": "stdout",
     "output_type": "stream",
     "text": [
      "Running with 10 threads and 14 MPI tasks\n"
     ]
    },
    {
     "name": "stderr",
     "output_type": "stream",
     "text": [
      "srun: unrecognized option '--bind-to'\n",
      "Try \"srun --help\" for more information\n"
     ]
    },
    {
     "name": "stdout",
     "output_type": "stream",
     "text": [
      "Running with 10 threads and 15 MPI tasks\n"
     ]
    },
    {
     "name": "stderr",
     "output_type": "stream",
     "text": [
      "srun: unrecognized option '--bind-to'\n",
      "Try \"srun --help\" for more information\n"
     ]
    },
    {
     "name": "stdout",
     "output_type": "stream",
     "text": [
      "Running with 10 threads and 16 MPI tasks\n"
     ]
    },
    {
     "name": "stderr",
     "output_type": "stream",
     "text": [
      "srun: unrecognized option '--bind-to'\n",
      "Try \"srun --help\" for more information\n"
     ]
    },
    {
     "name": "stdout",
     "output_type": "stream",
     "text": [
      "Running with 10 threads and 17 MPI tasks\n"
     ]
    },
    {
     "name": "stderr",
     "output_type": "stream",
     "text": [
      "srun: unrecognized option '--bind-to'\n",
      "Try \"srun --help\" for more information\n"
     ]
    },
    {
     "name": "stdout",
     "output_type": "stream",
     "text": [
      "Running with 10 threads and 18 MPI tasks\n"
     ]
    },
    {
     "name": "stderr",
     "output_type": "stream",
     "text": [
      "srun: unrecognized option '--bind-to'\n",
      "Try \"srun --help\" for more information\n"
     ]
    },
    {
     "name": "stdout",
     "output_type": "stream",
     "text": [
      "Running with 10 threads and 19 MPI tasks\n"
     ]
    },
    {
     "name": "stderr",
     "output_type": "stream",
     "text": [
      "srun: unrecognized option '--bind-to'\n",
      "Try \"srun --help\" for more information\n"
     ]
    },
    {
     "name": "stdout",
     "output_type": "stream",
     "text": [
      "Running with 10 threads and 20 MPI tasks\n"
     ]
    },
    {
     "name": "stderr",
     "output_type": "stream",
     "text": [
      "srun: unrecognized option '--bind-to'\n",
      "Try \"srun --help\" for more information\n"
     ]
    },
    {
     "name": "stdout",
     "output_type": "stream",
     "text": [
      "Running with 11 threads and 1 MPI tasks\n"
     ]
    },
    {
     "name": "stderr",
     "output_type": "stream",
     "text": [
      "srun: unrecognized option '--bind-to'\n",
      "Try \"srun --help\" for more information\n"
     ]
    },
    {
     "name": "stdout",
     "output_type": "stream",
     "text": [
      "Running with 11 threads and 2 MPI tasks\n"
     ]
    },
    {
     "name": "stderr",
     "output_type": "stream",
     "text": [
      "srun: unrecognized option '--bind-to'\n",
      "Try \"srun --help\" for more information\n"
     ]
    },
    {
     "name": "stdout",
     "output_type": "stream",
     "text": [
      "Running with 11 threads and 3 MPI tasks\n"
     ]
    },
    {
     "name": "stderr",
     "output_type": "stream",
     "text": [
      "srun: unrecognized option '--bind-to'\n",
      "Try \"srun --help\" for more information\n"
     ]
    },
    {
     "name": "stdout",
     "output_type": "stream",
     "text": [
      "Running with 11 threads and 4 MPI tasks\n"
     ]
    },
    {
     "name": "stderr",
     "output_type": "stream",
     "text": [
      "srun: unrecognized option '--bind-to'\n",
      "Try \"srun --help\" for more information\n"
     ]
    },
    {
     "name": "stdout",
     "output_type": "stream",
     "text": [
      "Running with 11 threads and 5 MPI tasks\n"
     ]
    },
    {
     "name": "stderr",
     "output_type": "stream",
     "text": [
      "srun: unrecognized option '--bind-to'\n",
      "Try \"srun --help\" for more information\n"
     ]
    },
    {
     "name": "stdout",
     "output_type": "stream",
     "text": [
      "Running with 11 threads and 6 MPI tasks\n"
     ]
    },
    {
     "name": "stderr",
     "output_type": "stream",
     "text": [
      "srun: unrecognized option '--bind-to'\n",
      "Try \"srun --help\" for more information\n"
     ]
    },
    {
     "name": "stdout",
     "output_type": "stream",
     "text": [
      "Running with 11 threads and 7 MPI tasks\n"
     ]
    },
    {
     "name": "stderr",
     "output_type": "stream",
     "text": [
      "srun: unrecognized option '--bind-to'\n",
      "Try \"srun --help\" for more information\n"
     ]
    },
    {
     "name": "stdout",
     "output_type": "stream",
     "text": [
      "Running with 11 threads and 8 MPI tasks\n"
     ]
    },
    {
     "name": "stderr",
     "output_type": "stream",
     "text": [
      "srun: unrecognized option '--bind-to'\n",
      "Try \"srun --help\" for more information\n"
     ]
    },
    {
     "name": "stdout",
     "output_type": "stream",
     "text": [
      "Running with 11 threads and 9 MPI tasks\n"
     ]
    },
    {
     "name": "stderr",
     "output_type": "stream",
     "text": [
      "srun: unrecognized option '--bind-to'\n",
      "Try \"srun --help\" for more information\n"
     ]
    },
    {
     "name": "stdout",
     "output_type": "stream",
     "text": [
      "Running with 11 threads and 10 MPI tasks\n"
     ]
    },
    {
     "name": "stderr",
     "output_type": "stream",
     "text": [
      "srun: unrecognized option '--bind-to'\n",
      "Try \"srun --help\" for more information\n"
     ]
    },
    {
     "name": "stdout",
     "output_type": "stream",
     "text": [
      "Running with 11 threads and 11 MPI tasks\n"
     ]
    },
    {
     "name": "stderr",
     "output_type": "stream",
     "text": [
      "srun: unrecognized option '--bind-to'\n",
      "Try \"srun --help\" for more information\n"
     ]
    },
    {
     "name": "stdout",
     "output_type": "stream",
     "text": [
      "Running with 11 threads and 12 MPI tasks\n"
     ]
    },
    {
     "name": "stderr",
     "output_type": "stream",
     "text": [
      "srun: unrecognized option '--bind-to'\n",
      "Try \"srun --help\" for more information\n"
     ]
    },
    {
     "name": "stdout",
     "output_type": "stream",
     "text": [
      "Running with 11 threads and 13 MPI tasks\n"
     ]
    },
    {
     "name": "stderr",
     "output_type": "stream",
     "text": [
      "srun: unrecognized option '--bind-to'\n",
      "Try \"srun --help\" for more information\n"
     ]
    },
    {
     "name": "stdout",
     "output_type": "stream",
     "text": [
      "Running with 11 threads and 14 MPI tasks\n"
     ]
    },
    {
     "name": "stderr",
     "output_type": "stream",
     "text": [
      "srun: unrecognized option '--bind-to'\n",
      "Try \"srun --help\" for more information\n"
     ]
    },
    {
     "name": "stdout",
     "output_type": "stream",
     "text": [
      "Running with 11 threads and 15 MPI tasks\n"
     ]
    },
    {
     "name": "stderr",
     "output_type": "stream",
     "text": [
      "srun: unrecognized option '--bind-to'\n",
      "Try \"srun --help\" for more information\n"
     ]
    },
    {
     "name": "stdout",
     "output_type": "stream",
     "text": [
      "Running with 11 threads and 16 MPI tasks\n"
     ]
    },
    {
     "name": "stderr",
     "output_type": "stream",
     "text": [
      "srun: unrecognized option '--bind-to'\n",
      "Try \"srun --help\" for more information\n"
     ]
    },
    {
     "name": "stdout",
     "output_type": "stream",
     "text": [
      "Running with 11 threads and 17 MPI tasks\n"
     ]
    },
    {
     "name": "stderr",
     "output_type": "stream",
     "text": [
      "srun: unrecognized option '--bind-to'\n",
      "Try \"srun --help\" for more information\n"
     ]
    },
    {
     "name": "stdout",
     "output_type": "stream",
     "text": [
      "Running with 11 threads and 18 MPI tasks\n"
     ]
    },
    {
     "name": "stderr",
     "output_type": "stream",
     "text": [
      "srun: unrecognized option '--bind-to'\n",
      "Try \"srun --help\" for more information\n"
     ]
    },
    {
     "name": "stdout",
     "output_type": "stream",
     "text": [
      "Running with 11 threads and 19 MPI tasks\n"
     ]
    },
    {
     "name": "stderr",
     "output_type": "stream",
     "text": [
      "srun: unrecognized option '--bind-to'\n",
      "Try \"srun --help\" for more information\n"
     ]
    },
    {
     "name": "stdout",
     "output_type": "stream",
     "text": [
      "Running with 11 threads and 20 MPI tasks\n"
     ]
    },
    {
     "name": "stderr",
     "output_type": "stream",
     "text": [
      "srun: unrecognized option '--bind-to'\n",
      "Try \"srun --help\" for more information\n"
     ]
    },
    {
     "name": "stdout",
     "output_type": "stream",
     "text": [
      "Running with 12 threads and 1 MPI tasks\n"
     ]
    },
    {
     "name": "stderr",
     "output_type": "stream",
     "text": [
      "srun: unrecognized option '--bind-to'\n",
      "Try \"srun --help\" for more information\n"
     ]
    },
    {
     "name": "stdout",
     "output_type": "stream",
     "text": [
      "Running with 12 threads and 2 MPI tasks\n"
     ]
    },
    {
     "name": "stderr",
     "output_type": "stream",
     "text": [
      "srun: unrecognized option '--bind-to'\n",
      "Try \"srun --help\" for more information\n"
     ]
    },
    {
     "name": "stdout",
     "output_type": "stream",
     "text": [
      "Running with 12 threads and 3 MPI tasks\n"
     ]
    },
    {
     "name": "stderr",
     "output_type": "stream",
     "text": [
      "srun: unrecognized option '--bind-to'\n",
      "Try \"srun --help\" for more information\n"
     ]
    },
    {
     "name": "stdout",
     "output_type": "stream",
     "text": [
      "Running with 12 threads and 4 MPI tasks\n"
     ]
    },
    {
     "name": "stderr",
     "output_type": "stream",
     "text": [
      "srun: unrecognized option '--bind-to'\n",
      "Try \"srun --help\" for more information\n"
     ]
    },
    {
     "name": "stdout",
     "output_type": "stream",
     "text": [
      "Running with 12 threads and 5 MPI tasks\n"
     ]
    },
    {
     "name": "stderr",
     "output_type": "stream",
     "text": [
      "srun: unrecognized option '--bind-to'\n",
      "Try \"srun --help\" for more information\n"
     ]
    },
    {
     "name": "stdout",
     "output_type": "stream",
     "text": [
      "Running with 12 threads and 6 MPI tasks\n"
     ]
    },
    {
     "name": "stderr",
     "output_type": "stream",
     "text": [
      "srun: unrecognized option '--bind-to'\n",
      "Try \"srun --help\" for more information\n"
     ]
    },
    {
     "name": "stdout",
     "output_type": "stream",
     "text": [
      "Running with 12 threads and 7 MPI tasks\n"
     ]
    },
    {
     "name": "stderr",
     "output_type": "stream",
     "text": [
      "srun: unrecognized option '--bind-to'\n",
      "Try \"srun --help\" for more information\n"
     ]
    },
    {
     "name": "stdout",
     "output_type": "stream",
     "text": [
      "Running with 12 threads and 8 MPI tasks\n"
     ]
    },
    {
     "name": "stderr",
     "output_type": "stream",
     "text": [
      "srun: unrecognized option '--bind-to'\n",
      "Try \"srun --help\" for more information\n"
     ]
    },
    {
     "name": "stdout",
     "output_type": "stream",
     "text": [
      "Running with 12 threads and 9 MPI tasks\n"
     ]
    },
    {
     "name": "stderr",
     "output_type": "stream",
     "text": [
      "srun: unrecognized option '--bind-to'\n",
      "Try \"srun --help\" for more information\n"
     ]
    },
    {
     "name": "stdout",
     "output_type": "stream",
     "text": [
      "Running with 12 threads and 10 MPI tasks\n"
     ]
    },
    {
     "name": "stderr",
     "output_type": "stream",
     "text": [
      "srun: unrecognized option '--bind-to'\n",
      "Try \"srun --help\" for more information\n"
     ]
    },
    {
     "name": "stdout",
     "output_type": "stream",
     "text": [
      "Running with 12 threads and 11 MPI tasks\n"
     ]
    },
    {
     "name": "stderr",
     "output_type": "stream",
     "text": [
      "srun: unrecognized option '--bind-to'\n",
      "Try \"srun --help\" for more information\n"
     ]
    },
    {
     "name": "stdout",
     "output_type": "stream",
     "text": [
      "Running with 12 threads and 12 MPI tasks\n"
     ]
    },
    {
     "name": "stderr",
     "output_type": "stream",
     "text": [
      "srun: unrecognized option '--bind-to'\n",
      "Try \"srun --help\" for more information\n"
     ]
    },
    {
     "name": "stdout",
     "output_type": "stream",
     "text": [
      "Running with 12 threads and 13 MPI tasks\n"
     ]
    },
    {
     "name": "stderr",
     "output_type": "stream",
     "text": [
      "srun: unrecognized option '--bind-to'\n",
      "Try \"srun --help\" for more information\n"
     ]
    },
    {
     "name": "stdout",
     "output_type": "stream",
     "text": [
      "Running with 12 threads and 14 MPI tasks\n"
     ]
    },
    {
     "name": "stderr",
     "output_type": "stream",
     "text": [
      "srun: unrecognized option '--bind-to'\n",
      "Try \"srun --help\" for more information\n"
     ]
    },
    {
     "name": "stdout",
     "output_type": "stream",
     "text": [
      "Running with 12 threads and 15 MPI tasks\n"
     ]
    },
    {
     "name": "stderr",
     "output_type": "stream",
     "text": [
      "srun: unrecognized option '--bind-to'\n",
      "Try \"srun --help\" for more information\n"
     ]
    },
    {
     "name": "stdout",
     "output_type": "stream",
     "text": [
      "Running with 12 threads and 16 MPI tasks\n"
     ]
    },
    {
     "name": "stderr",
     "output_type": "stream",
     "text": [
      "srun: unrecognized option '--bind-to'\n",
      "Try \"srun --help\" for more information\n"
     ]
    },
    {
     "name": "stdout",
     "output_type": "stream",
     "text": [
      "Running with 12 threads and 17 MPI tasks\n"
     ]
    },
    {
     "name": "stderr",
     "output_type": "stream",
     "text": [
      "srun: unrecognized option '--bind-to'\n",
      "Try \"srun --help\" for more information\n"
     ]
    },
    {
     "name": "stdout",
     "output_type": "stream",
     "text": [
      "Running with 12 threads and 18 MPI tasks\n"
     ]
    },
    {
     "name": "stderr",
     "output_type": "stream",
     "text": [
      "srun: unrecognized option '--bind-to'\n",
      "Try \"srun --help\" for more information\n"
     ]
    },
    {
     "name": "stdout",
     "output_type": "stream",
     "text": [
      "Running with 12 threads and 19 MPI tasks\n"
     ]
    },
    {
     "name": "stderr",
     "output_type": "stream",
     "text": [
      "srun: unrecognized option '--bind-to'\n",
      "Try \"srun --help\" for more information\n"
     ]
    },
    {
     "name": "stdout",
     "output_type": "stream",
     "text": [
      "Running with 12 threads and 20 MPI tasks\n"
     ]
    },
    {
     "name": "stderr",
     "output_type": "stream",
     "text": [
      "srun: unrecognized option '--bind-to'\n",
      "Try \"srun --help\" for more information\n"
     ]
    },
    {
     "name": "stdout",
     "output_type": "stream",
     "text": [
      "Running with 13 threads and 1 MPI tasks\n"
     ]
    },
    {
     "name": "stderr",
     "output_type": "stream",
     "text": [
      "srun: unrecognized option '--bind-to'\n",
      "Try \"srun --help\" for more information\n"
     ]
    },
    {
     "name": "stdout",
     "output_type": "stream",
     "text": [
      "Running with 13 threads and 2 MPI tasks\n"
     ]
    },
    {
     "name": "stderr",
     "output_type": "stream",
     "text": [
      "srun: unrecognized option '--bind-to'\n",
      "Try \"srun --help\" for more information\n"
     ]
    },
    {
     "name": "stdout",
     "output_type": "stream",
     "text": [
      "Running with 13 threads and 3 MPI tasks\n"
     ]
    },
    {
     "name": "stderr",
     "output_type": "stream",
     "text": [
      "srun: unrecognized option '--bind-to'\n",
      "Try \"srun --help\" for more information\n"
     ]
    },
    {
     "name": "stdout",
     "output_type": "stream",
     "text": [
      "Running with 13 threads and 4 MPI tasks\n"
     ]
    },
    {
     "name": "stderr",
     "output_type": "stream",
     "text": [
      "srun: unrecognized option '--bind-to'\n",
      "Try \"srun --help\" for more information\n"
     ]
    },
    {
     "name": "stdout",
     "output_type": "stream",
     "text": [
      "Running with 13 threads and 5 MPI tasks\n"
     ]
    },
    {
     "name": "stderr",
     "output_type": "stream",
     "text": [
      "srun: unrecognized option '--bind-to'\n",
      "Try \"srun --help\" for more information\n"
     ]
    },
    {
     "name": "stdout",
     "output_type": "stream",
     "text": [
      "Running with 13 threads and 6 MPI tasks\n"
     ]
    },
    {
     "name": "stderr",
     "output_type": "stream",
     "text": [
      "srun: unrecognized option '--bind-to'\n",
      "Try \"srun --help\" for more information\n"
     ]
    },
    {
     "name": "stdout",
     "output_type": "stream",
     "text": [
      "Running with 13 threads and 7 MPI tasks\n"
     ]
    },
    {
     "name": "stderr",
     "output_type": "stream",
     "text": [
      "srun: unrecognized option '--bind-to'\n",
      "Try \"srun --help\" for more information\n"
     ]
    },
    {
     "name": "stdout",
     "output_type": "stream",
     "text": [
      "Running with 13 threads and 8 MPI tasks\n"
     ]
    },
    {
     "name": "stderr",
     "output_type": "stream",
     "text": [
      "srun: unrecognized option '--bind-to'\n",
      "Try \"srun --help\" for more information\n"
     ]
    },
    {
     "name": "stdout",
     "output_type": "stream",
     "text": [
      "Running with 13 threads and 9 MPI tasks\n"
     ]
    },
    {
     "name": "stderr",
     "output_type": "stream",
     "text": [
      "srun: unrecognized option '--bind-to'\n",
      "Try \"srun --help\" for more information\n"
     ]
    },
    {
     "name": "stdout",
     "output_type": "stream",
     "text": [
      "Running with 13 threads and 10 MPI tasks\n"
     ]
    },
    {
     "name": "stderr",
     "output_type": "stream",
     "text": [
      "srun: unrecognized option '--bind-to'\n",
      "Try \"srun --help\" for more information\n"
     ]
    },
    {
     "name": "stdout",
     "output_type": "stream",
     "text": [
      "Running with 13 threads and 11 MPI tasks\n"
     ]
    },
    {
     "name": "stderr",
     "output_type": "stream",
     "text": [
      "srun: unrecognized option '--bind-to'\n",
      "Try \"srun --help\" for more information\n"
     ]
    },
    {
     "name": "stdout",
     "output_type": "stream",
     "text": [
      "Running with 13 threads and 12 MPI tasks\n"
     ]
    },
    {
     "name": "stderr",
     "output_type": "stream",
     "text": [
      "srun: unrecognized option '--bind-to'\n",
      "Try \"srun --help\" for more information\n"
     ]
    },
    {
     "name": "stdout",
     "output_type": "stream",
     "text": [
      "Running with 13 threads and 13 MPI tasks\n"
     ]
    },
    {
     "name": "stderr",
     "output_type": "stream",
     "text": [
      "srun: unrecognized option '--bind-to'\n",
      "Try \"srun --help\" for more information\n"
     ]
    },
    {
     "name": "stdout",
     "output_type": "stream",
     "text": [
      "Running with 13 threads and 14 MPI tasks\n"
     ]
    },
    {
     "name": "stderr",
     "output_type": "stream",
     "text": [
      "srun: unrecognized option '--bind-to'\n",
      "Try \"srun --help\" for more information\n"
     ]
    },
    {
     "name": "stdout",
     "output_type": "stream",
     "text": [
      "Running with 13 threads and 15 MPI tasks\n"
     ]
    },
    {
     "name": "stderr",
     "output_type": "stream",
     "text": [
      "srun: unrecognized option '--bind-to'\n",
      "Try \"srun --help\" for more information\n"
     ]
    },
    {
     "name": "stdout",
     "output_type": "stream",
     "text": [
      "Running with 13 threads and 16 MPI tasks\n"
     ]
    },
    {
     "name": "stderr",
     "output_type": "stream",
     "text": [
      "srun: unrecognized option '--bind-to'\n",
      "Try \"srun --help\" for more information\n"
     ]
    },
    {
     "name": "stdout",
     "output_type": "stream",
     "text": [
      "Running with 13 threads and 17 MPI tasks\n"
     ]
    },
    {
     "name": "stderr",
     "output_type": "stream",
     "text": [
      "srun: unrecognized option '--bind-to'\n",
      "Try \"srun --help\" for more information\n"
     ]
    },
    {
     "name": "stdout",
     "output_type": "stream",
     "text": [
      "Running with 13 threads and 18 MPI tasks\n"
     ]
    },
    {
     "name": "stderr",
     "output_type": "stream",
     "text": [
      "srun: unrecognized option '--bind-to'\n",
      "Try \"srun --help\" for more information\n"
     ]
    },
    {
     "name": "stdout",
     "output_type": "stream",
     "text": [
      "Running with 13 threads and 19 MPI tasks\n"
     ]
    },
    {
     "name": "stderr",
     "output_type": "stream",
     "text": [
      "srun: unrecognized option '--bind-to'\n",
      "Try \"srun --help\" for more information\n"
     ]
    },
    {
     "name": "stdout",
     "output_type": "stream",
     "text": [
      "Running with 13 threads and 20 MPI tasks\n"
     ]
    },
    {
     "name": "stderr",
     "output_type": "stream",
     "text": [
      "srun: unrecognized option '--bind-to'\n",
      "Try \"srun --help\" for more information\n"
     ]
    },
    {
     "name": "stdout",
     "output_type": "stream",
     "text": [
      "Running with 14 threads and 1 MPI tasks\n"
     ]
    },
    {
     "name": "stderr",
     "output_type": "stream",
     "text": [
      "srun: unrecognized option '--bind-to'\n",
      "Try \"srun --help\" for more information\n"
     ]
    },
    {
     "name": "stdout",
     "output_type": "stream",
     "text": [
      "Running with 14 threads and 2 MPI tasks\n"
     ]
    },
    {
     "name": "stderr",
     "output_type": "stream",
     "text": [
      "srun: unrecognized option '--bind-to'\n",
      "Try \"srun --help\" for more information\n"
     ]
    },
    {
     "name": "stdout",
     "output_type": "stream",
     "text": [
      "Running with 14 threads and 3 MPI tasks\n"
     ]
    },
    {
     "name": "stderr",
     "output_type": "stream",
     "text": [
      "srun: unrecognized option '--bind-to'\n",
      "Try \"srun --help\" for more information\n"
     ]
    },
    {
     "name": "stdout",
     "output_type": "stream",
     "text": [
      "Running with 14 threads and 4 MPI tasks\n"
     ]
    },
    {
     "name": "stderr",
     "output_type": "stream",
     "text": [
      "srun: unrecognized option '--bind-to'\n",
      "Try \"srun --help\" for more information\n"
     ]
    },
    {
     "name": "stdout",
     "output_type": "stream",
     "text": [
      "Running with 14 threads and 5 MPI tasks\n"
     ]
    },
    {
     "name": "stderr",
     "output_type": "stream",
     "text": [
      "srun: unrecognized option '--bind-to'\n",
      "Try \"srun --help\" for more information\n"
     ]
    },
    {
     "name": "stdout",
     "output_type": "stream",
     "text": [
      "Running with 14 threads and 6 MPI tasks\n"
     ]
    },
    {
     "name": "stderr",
     "output_type": "stream",
     "text": [
      "srun: unrecognized option '--bind-to'\n",
      "Try \"srun --help\" for more information\n"
     ]
    },
    {
     "name": "stdout",
     "output_type": "stream",
     "text": [
      "Running with 14 threads and 7 MPI tasks\n"
     ]
    },
    {
     "name": "stderr",
     "output_type": "stream",
     "text": [
      "srun: unrecognized option '--bind-to'\n",
      "Try \"srun --help\" for more information\n"
     ]
    },
    {
     "name": "stdout",
     "output_type": "stream",
     "text": [
      "Running with 14 threads and 8 MPI tasks\n"
     ]
    },
    {
     "name": "stderr",
     "output_type": "stream",
     "text": [
      "srun: unrecognized option '--bind-to'\n",
      "Try \"srun --help\" for more information\n"
     ]
    },
    {
     "name": "stdout",
     "output_type": "stream",
     "text": [
      "Running with 14 threads and 9 MPI tasks\n"
     ]
    },
    {
     "name": "stderr",
     "output_type": "stream",
     "text": [
      "srun: unrecognized option '--bind-to'\n",
      "Try \"srun --help\" for more information\n"
     ]
    },
    {
     "name": "stdout",
     "output_type": "stream",
     "text": [
      "Running with 14 threads and 10 MPI tasks\n"
     ]
    },
    {
     "name": "stderr",
     "output_type": "stream",
     "text": [
      "srun: unrecognized option '--bind-to'\n",
      "Try \"srun --help\" for more information\n"
     ]
    },
    {
     "name": "stdout",
     "output_type": "stream",
     "text": [
      "Running with 14 threads and 11 MPI tasks\n"
     ]
    },
    {
     "name": "stderr",
     "output_type": "stream",
     "text": [
      "srun: unrecognized option '--bind-to'\n",
      "Try \"srun --help\" for more information\n"
     ]
    },
    {
     "name": "stdout",
     "output_type": "stream",
     "text": [
      "Running with 14 threads and 12 MPI tasks\n"
     ]
    },
    {
     "name": "stderr",
     "output_type": "stream",
     "text": [
      "srun: unrecognized option '--bind-to'\n",
      "Try \"srun --help\" for more information\n"
     ]
    },
    {
     "name": "stdout",
     "output_type": "stream",
     "text": [
      "Running with 14 threads and 13 MPI tasks\n"
     ]
    },
    {
     "name": "stderr",
     "output_type": "stream",
     "text": [
      "srun: unrecognized option '--bind-to'\n",
      "Try \"srun --help\" for more information\n"
     ]
    },
    {
     "name": "stdout",
     "output_type": "stream",
     "text": [
      "Running with 14 threads and 14 MPI tasks\n"
     ]
    },
    {
     "name": "stderr",
     "output_type": "stream",
     "text": [
      "srun: unrecognized option '--bind-to'\n",
      "Try \"srun --help\" for more information\n"
     ]
    },
    {
     "name": "stdout",
     "output_type": "stream",
     "text": [
      "Running with 14 threads and 15 MPI tasks\n"
     ]
    },
    {
     "name": "stderr",
     "output_type": "stream",
     "text": [
      "srun: unrecognized option '--bind-to'\n",
      "Try \"srun --help\" for more information\n"
     ]
    },
    {
     "name": "stdout",
     "output_type": "stream",
     "text": [
      "Running with 14 threads and 16 MPI tasks\n"
     ]
    },
    {
     "name": "stderr",
     "output_type": "stream",
     "text": [
      "srun: unrecognized option '--bind-to'\n",
      "Try \"srun --help\" for more information\n"
     ]
    },
    {
     "name": "stdout",
     "output_type": "stream",
     "text": [
      "Running with 14 threads and 17 MPI tasks\n"
     ]
    },
    {
     "name": "stderr",
     "output_type": "stream",
     "text": [
      "srun: unrecognized option '--bind-to'\n",
      "Try \"srun --help\" for more information\n"
     ]
    },
    {
     "name": "stdout",
     "output_type": "stream",
     "text": [
      "Running with 14 threads and 18 MPI tasks\n"
     ]
    },
    {
     "name": "stderr",
     "output_type": "stream",
     "text": [
      "srun: unrecognized option '--bind-to'\n",
      "Try \"srun --help\" for more information\n"
     ]
    },
    {
     "name": "stdout",
     "output_type": "stream",
     "text": [
      "Running with 14 threads and 19 MPI tasks\n"
     ]
    },
    {
     "name": "stderr",
     "output_type": "stream",
     "text": [
      "srun: unrecognized option '--bind-to'\n",
      "Try \"srun --help\" for more information\n"
     ]
    },
    {
     "name": "stdout",
     "output_type": "stream",
     "text": [
      "Running with 14 threads and 20 MPI tasks\n"
     ]
    },
    {
     "name": "stderr",
     "output_type": "stream",
     "text": [
      "srun: unrecognized option '--bind-to'\n",
      "Try \"srun --help\" for more information\n"
     ]
    },
    {
     "name": "stdout",
     "output_type": "stream",
     "text": [
      "Running with 15 threads and 1 MPI tasks\n"
     ]
    },
    {
     "name": "stderr",
     "output_type": "stream",
     "text": [
      "srun: unrecognized option '--bind-to'\n",
      "Try \"srun --help\" for more information\n"
     ]
    },
    {
     "name": "stdout",
     "output_type": "stream",
     "text": [
      "Running with 15 threads and 2 MPI tasks\n"
     ]
    },
    {
     "name": "stderr",
     "output_type": "stream",
     "text": [
      "srun: unrecognized option '--bind-to'\n",
      "Try \"srun --help\" for more information\n"
     ]
    },
    {
     "name": "stdout",
     "output_type": "stream",
     "text": [
      "Running with 15 threads and 3 MPI tasks\n"
     ]
    },
    {
     "name": "stderr",
     "output_type": "stream",
     "text": [
      "srun: unrecognized option '--bind-to'\n",
      "Try \"srun --help\" for more information\n"
     ]
    },
    {
     "name": "stdout",
     "output_type": "stream",
     "text": [
      "Running with 15 threads and 4 MPI tasks\n"
     ]
    },
    {
     "name": "stderr",
     "output_type": "stream",
     "text": [
      "srun: unrecognized option '--bind-to'\n",
      "Try \"srun --help\" for more information\n"
     ]
    },
    {
     "name": "stdout",
     "output_type": "stream",
     "text": [
      "Running with 15 threads and 5 MPI tasks\n"
     ]
    },
    {
     "name": "stderr",
     "output_type": "stream",
     "text": [
      "srun: unrecognized option '--bind-to'\n",
      "Try \"srun --help\" for more information\n"
     ]
    },
    {
     "name": "stdout",
     "output_type": "stream",
     "text": [
      "Running with 15 threads and 6 MPI tasks\n"
     ]
    },
    {
     "name": "stderr",
     "output_type": "stream",
     "text": [
      "srun: unrecognized option '--bind-to'\n",
      "Try \"srun --help\" for more information\n"
     ]
    },
    {
     "name": "stdout",
     "output_type": "stream",
     "text": [
      "Running with 15 threads and 7 MPI tasks\n"
     ]
    },
    {
     "name": "stderr",
     "output_type": "stream",
     "text": [
      "srun: unrecognized option '--bind-to'\n",
      "Try \"srun --help\" for more information\n"
     ]
    },
    {
     "name": "stdout",
     "output_type": "stream",
     "text": [
      "Running with 15 threads and 8 MPI tasks\n"
     ]
    },
    {
     "name": "stderr",
     "output_type": "stream",
     "text": [
      "srun: unrecognized option '--bind-to'\n",
      "Try \"srun --help\" for more information\n"
     ]
    },
    {
     "name": "stdout",
     "output_type": "stream",
     "text": [
      "Running with 15 threads and 9 MPI tasks\n"
     ]
    },
    {
     "name": "stderr",
     "output_type": "stream",
     "text": [
      "srun: unrecognized option '--bind-to'\n",
      "Try \"srun --help\" for more information\n"
     ]
    },
    {
     "name": "stdout",
     "output_type": "stream",
     "text": [
      "Running with 15 threads and 10 MPI tasks\n"
     ]
    },
    {
     "name": "stderr",
     "output_type": "stream",
     "text": [
      "srun: unrecognized option '--bind-to'\n",
      "Try \"srun --help\" for more information\n"
     ]
    },
    {
     "name": "stdout",
     "output_type": "stream",
     "text": [
      "Running with 15 threads and 11 MPI tasks\n"
     ]
    },
    {
     "name": "stderr",
     "output_type": "stream",
     "text": [
      "srun: unrecognized option '--bind-to'\n",
      "Try \"srun --help\" for more information\n"
     ]
    },
    {
     "name": "stdout",
     "output_type": "stream",
     "text": [
      "Running with 15 threads and 12 MPI tasks\n"
     ]
    },
    {
     "name": "stderr",
     "output_type": "stream",
     "text": [
      "srun: unrecognized option '--bind-to'\n",
      "Try \"srun --help\" for more information\n"
     ]
    },
    {
     "name": "stdout",
     "output_type": "stream",
     "text": [
      "Running with 15 threads and 13 MPI tasks\n"
     ]
    },
    {
     "name": "stderr",
     "output_type": "stream",
     "text": [
      "srun: unrecognized option '--bind-to'\n",
      "Try \"srun --help\" for more information\n"
     ]
    },
    {
     "name": "stdout",
     "output_type": "stream",
     "text": [
      "Running with 15 threads and 14 MPI tasks\n"
     ]
    },
    {
     "name": "stderr",
     "output_type": "stream",
     "text": [
      "srun: unrecognized option '--bind-to'\n",
      "Try \"srun --help\" for more information\n"
     ]
    },
    {
     "name": "stdout",
     "output_type": "stream",
     "text": [
      "Running with 15 threads and 15 MPI tasks\n"
     ]
    },
    {
     "name": "stderr",
     "output_type": "stream",
     "text": [
      "srun: unrecognized option '--bind-to'\n",
      "Try \"srun --help\" for more information\n"
     ]
    },
    {
     "name": "stdout",
     "output_type": "stream",
     "text": [
      "Running with 15 threads and 16 MPI tasks\n"
     ]
    },
    {
     "name": "stderr",
     "output_type": "stream",
     "text": [
      "srun: unrecognized option '--bind-to'\n",
      "Try \"srun --help\" for more information\n"
     ]
    },
    {
     "name": "stdout",
     "output_type": "stream",
     "text": [
      "Running with 15 threads and 17 MPI tasks\n"
     ]
    },
    {
     "name": "stderr",
     "output_type": "stream",
     "text": [
      "srun: unrecognized option '--bind-to'\n",
      "Try \"srun --help\" for more information\n"
     ]
    },
    {
     "name": "stdout",
     "output_type": "stream",
     "text": [
      "Running with 15 threads and 18 MPI tasks\n"
     ]
    },
    {
     "name": "stderr",
     "output_type": "stream",
     "text": [
      "srun: unrecognized option '--bind-to'\n",
      "Try \"srun --help\" for more information\n"
     ]
    },
    {
     "name": "stdout",
     "output_type": "stream",
     "text": [
      "Running with 15 threads and 19 MPI tasks\n"
     ]
    },
    {
     "name": "stderr",
     "output_type": "stream",
     "text": [
      "srun: unrecognized option '--bind-to'\n",
      "Try \"srun --help\" for more information\n"
     ]
    },
    {
     "name": "stdout",
     "output_type": "stream",
     "text": [
      "Running with 15 threads and 20 MPI tasks\n"
     ]
    },
    {
     "name": "stderr",
     "output_type": "stream",
     "text": [
      "srun: unrecognized option '--bind-to'\n",
      "Try \"srun --help\" for more information\n"
     ]
    },
    {
     "name": "stdout",
     "output_type": "stream",
     "text": [
      "Running with 16 threads and 1 MPI tasks\n"
     ]
    },
    {
     "name": "stderr",
     "output_type": "stream",
     "text": [
      "srun: unrecognized option '--bind-to'\n",
      "Try \"srun --help\" for more information\n"
     ]
    },
    {
     "name": "stdout",
     "output_type": "stream",
     "text": [
      "Running with 16 threads and 2 MPI tasks\n"
     ]
    },
    {
     "name": "stderr",
     "output_type": "stream",
     "text": [
      "srun: unrecognized option '--bind-to'\n",
      "Try \"srun --help\" for more information\n"
     ]
    },
    {
     "name": "stdout",
     "output_type": "stream",
     "text": [
      "Running with 16 threads and 3 MPI tasks\n"
     ]
    },
    {
     "name": "stderr",
     "output_type": "stream",
     "text": [
      "srun: unrecognized option '--bind-to'\n",
      "Try \"srun --help\" for more information\n"
     ]
    },
    {
     "name": "stdout",
     "output_type": "stream",
     "text": [
      "Running with 16 threads and 4 MPI tasks\n"
     ]
    },
    {
     "name": "stderr",
     "output_type": "stream",
     "text": [
      "srun: unrecognized option '--bind-to'\n",
      "Try \"srun --help\" for more information\n"
     ]
    },
    {
     "name": "stdout",
     "output_type": "stream",
     "text": [
      "Running with 16 threads and 5 MPI tasks\n"
     ]
    },
    {
     "name": "stderr",
     "output_type": "stream",
     "text": [
      "srun: unrecognized option '--bind-to'\n",
      "Try \"srun --help\" for more information\n"
     ]
    },
    {
     "name": "stdout",
     "output_type": "stream",
     "text": [
      "Running with 16 threads and 6 MPI tasks\n"
     ]
    },
    {
     "name": "stderr",
     "output_type": "stream",
     "text": [
      "srun: unrecognized option '--bind-to'\n",
      "Try \"srun --help\" for more information\n"
     ]
    },
    {
     "name": "stdout",
     "output_type": "stream",
     "text": [
      "Running with 16 threads and 7 MPI tasks\n"
     ]
    },
    {
     "name": "stderr",
     "output_type": "stream",
     "text": [
      "srun: unrecognized option '--bind-to'\n",
      "Try \"srun --help\" for more information\n"
     ]
    },
    {
     "name": "stdout",
     "output_type": "stream",
     "text": [
      "Running with 16 threads and 8 MPI tasks\n"
     ]
    },
    {
     "name": "stderr",
     "output_type": "stream",
     "text": [
      "srun: unrecognized option '--bind-to'\n",
      "Try \"srun --help\" for more information\n"
     ]
    },
    {
     "name": "stdout",
     "output_type": "stream",
     "text": [
      "Running with 16 threads and 9 MPI tasks\n"
     ]
    },
    {
     "name": "stderr",
     "output_type": "stream",
     "text": [
      "srun: unrecognized option '--bind-to'\n",
      "Try \"srun --help\" for more information\n"
     ]
    },
    {
     "name": "stdout",
     "output_type": "stream",
     "text": [
      "Running with 16 threads and 10 MPI tasks\n"
     ]
    },
    {
     "name": "stderr",
     "output_type": "stream",
     "text": [
      "srun: unrecognized option '--bind-to'\n",
      "Try \"srun --help\" for more information\n"
     ]
    },
    {
     "name": "stdout",
     "output_type": "stream",
     "text": [
      "Running with 16 threads and 11 MPI tasks\n"
     ]
    },
    {
     "name": "stderr",
     "output_type": "stream",
     "text": [
      "srun: unrecognized option '--bind-to'\n",
      "Try \"srun --help\" for more information\n"
     ]
    },
    {
     "name": "stdout",
     "output_type": "stream",
     "text": [
      "Running with 16 threads and 12 MPI tasks\n"
     ]
    },
    {
     "name": "stderr",
     "output_type": "stream",
     "text": [
      "srun: unrecognized option '--bind-to'\n",
      "Try \"srun --help\" for more information\n"
     ]
    },
    {
     "name": "stdout",
     "output_type": "stream",
     "text": [
      "Running with 16 threads and 13 MPI tasks\n"
     ]
    },
    {
     "name": "stderr",
     "output_type": "stream",
     "text": [
      "srun: unrecognized option '--bind-to'\n",
      "Try \"srun --help\" for more information\n"
     ]
    },
    {
     "name": "stdout",
     "output_type": "stream",
     "text": [
      "Running with 16 threads and 14 MPI tasks\n"
     ]
    },
    {
     "name": "stderr",
     "output_type": "stream",
     "text": [
      "srun: unrecognized option '--bind-to'\n",
      "Try \"srun --help\" for more information\n"
     ]
    },
    {
     "name": "stdout",
     "output_type": "stream",
     "text": [
      "Running with 16 threads and 15 MPI tasks\n"
     ]
    },
    {
     "name": "stderr",
     "output_type": "stream",
     "text": [
      "srun: unrecognized option '--bind-to'\n",
      "Try \"srun --help\" for more information\n"
     ]
    },
    {
     "name": "stdout",
     "output_type": "stream",
     "text": [
      "Running with 16 threads and 16 MPI tasks\n"
     ]
    },
    {
     "name": "stderr",
     "output_type": "stream",
     "text": [
      "srun: unrecognized option '--bind-to'\n",
      "Try \"srun --help\" for more information\n"
     ]
    },
    {
     "name": "stdout",
     "output_type": "stream",
     "text": [
      "Running with 16 threads and 17 MPI tasks\n"
     ]
    },
    {
     "name": "stderr",
     "output_type": "stream",
     "text": [
      "srun: unrecognized option '--bind-to'\n",
      "Try \"srun --help\" for more information\n"
     ]
    },
    {
     "name": "stdout",
     "output_type": "stream",
     "text": [
      "Running with 16 threads and 18 MPI tasks\n"
     ]
    },
    {
     "name": "stderr",
     "output_type": "stream",
     "text": [
      "srun: unrecognized option '--bind-to'\n",
      "Try \"srun --help\" for more information\n"
     ]
    },
    {
     "name": "stdout",
     "output_type": "stream",
     "text": [
      "Running with 16 threads and 19 MPI tasks\n"
     ]
    },
    {
     "name": "stderr",
     "output_type": "stream",
     "text": [
      "srun: unrecognized option '--bind-to'\n",
      "Try \"srun --help\" for more information\n"
     ]
    },
    {
     "name": "stdout",
     "output_type": "stream",
     "text": [
      "Running with 16 threads and 20 MPI tasks\n"
     ]
    },
    {
     "name": "stderr",
     "output_type": "stream",
     "text": [
      "srun: unrecognized option '--bind-to'\n",
      "Try \"srun --help\" for more information\n"
     ]
    },
    {
     "name": "stdout",
     "output_type": "stream",
     "text": [
      "Running with 17 threads and 1 MPI tasks\n"
     ]
    },
    {
     "name": "stderr",
     "output_type": "stream",
     "text": [
      "srun: unrecognized option '--bind-to'\n",
      "Try \"srun --help\" for more information\n"
     ]
    },
    {
     "name": "stdout",
     "output_type": "stream",
     "text": [
      "Running with 17 threads and 2 MPI tasks\n"
     ]
    },
    {
     "name": "stderr",
     "output_type": "stream",
     "text": [
      "srun: unrecognized option '--bind-to'\n",
      "Try \"srun --help\" for more information\n"
     ]
    },
    {
     "name": "stdout",
     "output_type": "stream",
     "text": [
      "Running with 17 threads and 3 MPI tasks\n"
     ]
    },
    {
     "name": "stderr",
     "output_type": "stream",
     "text": [
      "srun: unrecognized option '--bind-to'\n",
      "Try \"srun --help\" for more information\n"
     ]
    },
    {
     "name": "stdout",
     "output_type": "stream",
     "text": [
      "Running with 17 threads and 4 MPI tasks\n"
     ]
    },
    {
     "name": "stderr",
     "output_type": "stream",
     "text": [
      "srun: unrecognized option '--bind-to'\n",
      "Try \"srun --help\" for more information\n"
     ]
    },
    {
     "name": "stdout",
     "output_type": "stream",
     "text": [
      "Running with 17 threads and 5 MPI tasks\n"
     ]
    },
    {
     "name": "stderr",
     "output_type": "stream",
     "text": [
      "srun: unrecognized option '--bind-to'\n",
      "Try \"srun --help\" for more information\n"
     ]
    },
    {
     "name": "stdout",
     "output_type": "stream",
     "text": [
      "Running with 17 threads and 6 MPI tasks\n"
     ]
    },
    {
     "name": "stderr",
     "output_type": "stream",
     "text": [
      "srun: unrecognized option '--bind-to'\n",
      "Try \"srun --help\" for more information\n"
     ]
    },
    {
     "name": "stdout",
     "output_type": "stream",
     "text": [
      "Running with 17 threads and 7 MPI tasks\n"
     ]
    },
    {
     "name": "stderr",
     "output_type": "stream",
     "text": [
      "srun: unrecognized option '--bind-to'\n",
      "Try \"srun --help\" for more information\n"
     ]
    },
    {
     "name": "stdout",
     "output_type": "stream",
     "text": [
      "Running with 17 threads and 8 MPI tasks\n"
     ]
    },
    {
     "name": "stderr",
     "output_type": "stream",
     "text": [
      "srun: unrecognized option '--bind-to'\n",
      "Try \"srun --help\" for more information\n"
     ]
    },
    {
     "name": "stdout",
     "output_type": "stream",
     "text": [
      "Running with 17 threads and 9 MPI tasks\n"
     ]
    },
    {
     "name": "stderr",
     "output_type": "stream",
     "text": [
      "srun: unrecognized option '--bind-to'\n",
      "Try \"srun --help\" for more information\n"
     ]
    },
    {
     "name": "stdout",
     "output_type": "stream",
     "text": [
      "Running with 17 threads and 10 MPI tasks\n"
     ]
    },
    {
     "name": "stderr",
     "output_type": "stream",
     "text": [
      "srun: unrecognized option '--bind-to'\n",
      "Try \"srun --help\" for more information\n"
     ]
    },
    {
     "name": "stdout",
     "output_type": "stream",
     "text": [
      "Running with 17 threads and 11 MPI tasks\n"
     ]
    },
    {
     "name": "stderr",
     "output_type": "stream",
     "text": [
      "srun: unrecognized option '--bind-to'\n",
      "Try \"srun --help\" for more information\n"
     ]
    },
    {
     "name": "stdout",
     "output_type": "stream",
     "text": [
      "Running with 17 threads and 12 MPI tasks\n"
     ]
    },
    {
     "name": "stderr",
     "output_type": "stream",
     "text": [
      "srun: unrecognized option '--bind-to'\n",
      "Try \"srun --help\" for more information\n"
     ]
    },
    {
     "name": "stdout",
     "output_type": "stream",
     "text": [
      "Running with 17 threads and 13 MPI tasks\n"
     ]
    },
    {
     "name": "stderr",
     "output_type": "stream",
     "text": [
      "srun: unrecognized option '--bind-to'\n",
      "Try \"srun --help\" for more information\n"
     ]
    },
    {
     "name": "stdout",
     "output_type": "stream",
     "text": [
      "Running with 17 threads and 14 MPI tasks\n"
     ]
    },
    {
     "name": "stderr",
     "output_type": "stream",
     "text": [
      "srun: unrecognized option '--bind-to'\n",
      "Try \"srun --help\" for more information\n"
     ]
    },
    {
     "name": "stdout",
     "output_type": "stream",
     "text": [
      "Running with 17 threads and 15 MPI tasks\n"
     ]
    },
    {
     "name": "stderr",
     "output_type": "stream",
     "text": [
      "srun: unrecognized option '--bind-to'\n",
      "Try \"srun --help\" for more information\n"
     ]
    },
    {
     "name": "stdout",
     "output_type": "stream",
     "text": [
      "Running with 17 threads and 16 MPI tasks\n"
     ]
    },
    {
     "name": "stderr",
     "output_type": "stream",
     "text": [
      "srun: unrecognized option '--bind-to'\n",
      "Try \"srun --help\" for more information\n"
     ]
    },
    {
     "name": "stdout",
     "output_type": "stream",
     "text": [
      "Running with 17 threads and 17 MPI tasks\n"
     ]
    },
    {
     "name": "stderr",
     "output_type": "stream",
     "text": [
      "srun: unrecognized option '--bind-to'\n",
      "Try \"srun --help\" for more information\n"
     ]
    },
    {
     "name": "stdout",
     "output_type": "stream",
     "text": [
      "Running with 17 threads and 18 MPI tasks\n"
     ]
    },
    {
     "name": "stderr",
     "output_type": "stream",
     "text": [
      "srun: unrecognized option '--bind-to'\n",
      "Try \"srun --help\" for more information\n"
     ]
    },
    {
     "name": "stdout",
     "output_type": "stream",
     "text": [
      "Running with 17 threads and 19 MPI tasks\n"
     ]
    },
    {
     "name": "stderr",
     "output_type": "stream",
     "text": [
      "srun: unrecognized option '--bind-to'\n",
      "Try \"srun --help\" for more information\n"
     ]
    },
    {
     "name": "stdout",
     "output_type": "stream",
     "text": [
      "Running with 17 threads and 20 MPI tasks\n"
     ]
    },
    {
     "name": "stderr",
     "output_type": "stream",
     "text": [
      "srun: unrecognized option '--bind-to'\n",
      "Try \"srun --help\" for more information\n"
     ]
    },
    {
     "name": "stdout",
     "output_type": "stream",
     "text": [
      "Running with 18 threads and 1 MPI tasks\n"
     ]
    },
    {
     "name": "stderr",
     "output_type": "stream",
     "text": [
      "srun: unrecognized option '--bind-to'\n",
      "Try \"srun --help\" for more information\n"
     ]
    },
    {
     "name": "stdout",
     "output_type": "stream",
     "text": [
      "Running with 18 threads and 2 MPI tasks\n"
     ]
    },
    {
     "name": "stderr",
     "output_type": "stream",
     "text": [
      "srun: unrecognized option '--bind-to'\n",
      "Try \"srun --help\" for more information\n"
     ]
    },
    {
     "name": "stdout",
     "output_type": "stream",
     "text": [
      "Running with 18 threads and 3 MPI tasks\n"
     ]
    },
    {
     "name": "stderr",
     "output_type": "stream",
     "text": [
      "srun: unrecognized option '--bind-to'\n",
      "Try \"srun --help\" for more information\n"
     ]
    },
    {
     "name": "stdout",
     "output_type": "stream",
     "text": [
      "Running with 18 threads and 4 MPI tasks\n"
     ]
    },
    {
     "name": "stderr",
     "output_type": "stream",
     "text": [
      "srun: unrecognized option '--bind-to'\n",
      "Try \"srun --help\" for more information\n"
     ]
    },
    {
     "name": "stdout",
     "output_type": "stream",
     "text": [
      "Running with 18 threads and 5 MPI tasks\n"
     ]
    },
    {
     "name": "stderr",
     "output_type": "stream",
     "text": [
      "srun: unrecognized option '--bind-to'\n",
      "Try \"srun --help\" for more information\n"
     ]
    },
    {
     "name": "stdout",
     "output_type": "stream",
     "text": [
      "Running with 18 threads and 6 MPI tasks\n"
     ]
    },
    {
     "name": "stderr",
     "output_type": "stream",
     "text": [
      "srun: unrecognized option '--bind-to'\n",
      "Try \"srun --help\" for more information\n"
     ]
    },
    {
     "name": "stdout",
     "output_type": "stream",
     "text": [
      "Running with 18 threads and 7 MPI tasks\n"
     ]
    },
    {
     "name": "stderr",
     "output_type": "stream",
     "text": [
      "srun: unrecognized option '--bind-to'\n",
      "Try \"srun --help\" for more information\n"
     ]
    },
    {
     "name": "stdout",
     "output_type": "stream",
     "text": [
      "Running with 18 threads and 8 MPI tasks\n"
     ]
    },
    {
     "name": "stderr",
     "output_type": "stream",
     "text": [
      "srun: unrecognized option '--bind-to'\n",
      "Try \"srun --help\" for more information\n"
     ]
    },
    {
     "name": "stdout",
     "output_type": "stream",
     "text": [
      "Running with 18 threads and 9 MPI tasks\n"
     ]
    },
    {
     "name": "stderr",
     "output_type": "stream",
     "text": [
      "srun: unrecognized option '--bind-to'\n",
      "Try \"srun --help\" for more information\n"
     ]
    },
    {
     "name": "stdout",
     "output_type": "stream",
     "text": [
      "Running with 18 threads and 10 MPI tasks\n"
     ]
    },
    {
     "name": "stderr",
     "output_type": "stream",
     "text": [
      "srun: unrecognized option '--bind-to'\n",
      "Try \"srun --help\" for more information\n"
     ]
    },
    {
     "name": "stdout",
     "output_type": "stream",
     "text": [
      "Running with 18 threads and 11 MPI tasks\n"
     ]
    },
    {
     "name": "stderr",
     "output_type": "stream",
     "text": [
      "srun: unrecognized option '--bind-to'\n",
      "Try \"srun --help\" for more information\n"
     ]
    },
    {
     "name": "stdout",
     "output_type": "stream",
     "text": [
      "Running with 18 threads and 12 MPI tasks\n"
     ]
    },
    {
     "name": "stderr",
     "output_type": "stream",
     "text": [
      "srun: unrecognized option '--bind-to'\n",
      "Try \"srun --help\" for more information\n"
     ]
    },
    {
     "name": "stdout",
     "output_type": "stream",
     "text": [
      "Running with 18 threads and 13 MPI tasks\n"
     ]
    },
    {
     "name": "stderr",
     "output_type": "stream",
     "text": [
      "srun: unrecognized option '--bind-to'\n",
      "Try \"srun --help\" for more information\n"
     ]
    },
    {
     "name": "stdout",
     "output_type": "stream",
     "text": [
      "Running with 18 threads and 14 MPI tasks\n"
     ]
    },
    {
     "name": "stderr",
     "output_type": "stream",
     "text": [
      "srun: unrecognized option '--bind-to'\n",
      "Try \"srun --help\" for more information\n"
     ]
    },
    {
     "name": "stdout",
     "output_type": "stream",
     "text": [
      "Running with 18 threads and 15 MPI tasks\n"
     ]
    },
    {
     "name": "stderr",
     "output_type": "stream",
     "text": [
      "srun: unrecognized option '--bind-to'\n",
      "Try \"srun --help\" for more information\n"
     ]
    },
    {
     "name": "stdout",
     "output_type": "stream",
     "text": [
      "Running with 18 threads and 16 MPI tasks\n"
     ]
    },
    {
     "name": "stderr",
     "output_type": "stream",
     "text": [
      "srun: unrecognized option '--bind-to'\n",
      "Try \"srun --help\" for more information\n"
     ]
    },
    {
     "name": "stdout",
     "output_type": "stream",
     "text": [
      "Running with 18 threads and 17 MPI tasks\n"
     ]
    },
    {
     "name": "stderr",
     "output_type": "stream",
     "text": [
      "srun: unrecognized option '--bind-to'\n",
      "Try \"srun --help\" for more information\n"
     ]
    },
    {
     "name": "stdout",
     "output_type": "stream",
     "text": [
      "Running with 18 threads and 18 MPI tasks\n"
     ]
    },
    {
     "name": "stderr",
     "output_type": "stream",
     "text": [
      "srun: unrecognized option '--bind-to'\n",
      "Try \"srun --help\" for more information\n"
     ]
    },
    {
     "name": "stdout",
     "output_type": "stream",
     "text": [
      "Running with 18 threads and 19 MPI tasks\n"
     ]
    },
    {
     "name": "stderr",
     "output_type": "stream",
     "text": [
      "srun: unrecognized option '--bind-to'\n",
      "Try \"srun --help\" for more information\n"
     ]
    },
    {
     "name": "stdout",
     "output_type": "stream",
     "text": [
      "Running with 18 threads and 20 MPI tasks\n"
     ]
    },
    {
     "name": "stderr",
     "output_type": "stream",
     "text": [
      "srun: unrecognized option '--bind-to'\n",
      "Try \"srun --help\" for more information\n"
     ]
    },
    {
     "name": "stdout",
     "output_type": "stream",
     "text": [
      "Running with 19 threads and 1 MPI tasks\n"
     ]
    },
    {
     "name": "stderr",
     "output_type": "stream",
     "text": [
      "srun: unrecognized option '--bind-to'\n",
      "Try \"srun --help\" for more information\n"
     ]
    },
    {
     "name": "stdout",
     "output_type": "stream",
     "text": [
      "Running with 19 threads and 2 MPI tasks\n"
     ]
    },
    {
     "name": "stderr",
     "output_type": "stream",
     "text": [
      "srun: unrecognized option '--bind-to'\n",
      "Try \"srun --help\" for more information\n"
     ]
    },
    {
     "name": "stdout",
     "output_type": "stream",
     "text": [
      "Running with 19 threads and 3 MPI tasks\n"
     ]
    },
    {
     "name": "stderr",
     "output_type": "stream",
     "text": [
      "srun: unrecognized option '--bind-to'\n",
      "Try \"srun --help\" for more information\n"
     ]
    },
    {
     "name": "stdout",
     "output_type": "stream",
     "text": [
      "Running with 19 threads and 4 MPI tasks\n"
     ]
    },
    {
     "name": "stderr",
     "output_type": "stream",
     "text": [
      "srun: unrecognized option '--bind-to'\n",
      "Try \"srun --help\" for more information\n"
     ]
    },
    {
     "name": "stdout",
     "output_type": "stream",
     "text": [
      "Running with 19 threads and 5 MPI tasks\n"
     ]
    },
    {
     "name": "stderr",
     "output_type": "stream",
     "text": [
      "srun: unrecognized option '--bind-to'\n",
      "Try \"srun --help\" for more information\n"
     ]
    },
    {
     "name": "stdout",
     "output_type": "stream",
     "text": [
      "Running with 19 threads and 6 MPI tasks\n"
     ]
    },
    {
     "name": "stderr",
     "output_type": "stream",
     "text": [
      "srun: unrecognized option '--bind-to'\n",
      "Try \"srun --help\" for more information\n"
     ]
    },
    {
     "name": "stdout",
     "output_type": "stream",
     "text": [
      "Running with 19 threads and 7 MPI tasks\n"
     ]
    },
    {
     "name": "stderr",
     "output_type": "stream",
     "text": [
      "srun: unrecognized option '--bind-to'\n",
      "Try \"srun --help\" for more information\n"
     ]
    },
    {
     "name": "stdout",
     "output_type": "stream",
     "text": [
      "Running with 19 threads and 8 MPI tasks\n"
     ]
    },
    {
     "name": "stderr",
     "output_type": "stream",
     "text": [
      "srun: unrecognized option '--bind-to'\n",
      "Try \"srun --help\" for more information\n"
     ]
    },
    {
     "name": "stdout",
     "output_type": "stream",
     "text": [
      "Running with 19 threads and 9 MPI tasks\n"
     ]
    },
    {
     "name": "stderr",
     "output_type": "stream",
     "text": [
      "srun: unrecognized option '--bind-to'\n",
      "Try \"srun --help\" for more information\n"
     ]
    },
    {
     "name": "stdout",
     "output_type": "stream",
     "text": [
      "Running with 19 threads and 10 MPI tasks\n"
     ]
    },
    {
     "name": "stderr",
     "output_type": "stream",
     "text": [
      "srun: unrecognized option '--bind-to'\n",
      "Try \"srun --help\" for more information\n"
     ]
    },
    {
     "name": "stdout",
     "output_type": "stream",
     "text": [
      "Running with 19 threads and 11 MPI tasks\n"
     ]
    },
    {
     "name": "stderr",
     "output_type": "stream",
     "text": [
      "srun: unrecognized option '--bind-to'\n",
      "Try \"srun --help\" for more information\n"
     ]
    },
    {
     "name": "stdout",
     "output_type": "stream",
     "text": [
      "Running with 19 threads and 12 MPI tasks\n"
     ]
    },
    {
     "name": "stderr",
     "output_type": "stream",
     "text": [
      "srun: unrecognized option '--bind-to'\n",
      "Try \"srun --help\" for more information\n"
     ]
    },
    {
     "name": "stdout",
     "output_type": "stream",
     "text": [
      "Running with 19 threads and 13 MPI tasks\n"
     ]
    },
    {
     "name": "stderr",
     "output_type": "stream",
     "text": [
      "srun: unrecognized option '--bind-to'\n",
      "Try \"srun --help\" for more information\n"
     ]
    },
    {
     "name": "stdout",
     "output_type": "stream",
     "text": [
      "Running with 19 threads and 14 MPI tasks\n"
     ]
    },
    {
     "name": "stderr",
     "output_type": "stream",
     "text": [
      "srun: unrecognized option '--bind-to'\n",
      "Try \"srun --help\" for more information\n"
     ]
    },
    {
     "name": "stdout",
     "output_type": "stream",
     "text": [
      "Running with 19 threads and 15 MPI tasks\n"
     ]
    },
    {
     "name": "stderr",
     "output_type": "stream",
     "text": [
      "srun: unrecognized option '--bind-to'\n",
      "Try \"srun --help\" for more information\n"
     ]
    },
    {
     "name": "stdout",
     "output_type": "stream",
     "text": [
      "Running with 19 threads and 16 MPI tasks\n"
     ]
    },
    {
     "name": "stderr",
     "output_type": "stream",
     "text": [
      "srun: unrecognized option '--bind-to'\n",
      "Try \"srun --help\" for more information\n"
     ]
    },
    {
     "name": "stdout",
     "output_type": "stream",
     "text": [
      "Running with 19 threads and 17 MPI tasks\n"
     ]
    },
    {
     "name": "stderr",
     "output_type": "stream",
     "text": [
      "srun: unrecognized option '--bind-to'\n",
      "Try \"srun --help\" for more information\n"
     ]
    },
    {
     "name": "stdout",
     "output_type": "stream",
     "text": [
      "Running with 19 threads and 18 MPI tasks\n"
     ]
    },
    {
     "name": "stderr",
     "output_type": "stream",
     "text": [
      "srun: unrecognized option '--bind-to'\n",
      "Try \"srun --help\" for more information\n"
     ]
    },
    {
     "name": "stdout",
     "output_type": "stream",
     "text": [
      "Running with 19 threads and 19 MPI tasks\n"
     ]
    },
    {
     "name": "stderr",
     "output_type": "stream",
     "text": [
      "srun: unrecognized option '--bind-to'\n",
      "Try \"srun --help\" for more information\n"
     ]
    },
    {
     "name": "stdout",
     "output_type": "stream",
     "text": [
      "Running with 19 threads and 20 MPI tasks\n"
     ]
    },
    {
     "name": "stderr",
     "output_type": "stream",
     "text": [
      "srun: unrecognized option '--bind-to'\n",
      "Try \"srun --help\" for more information\n"
     ]
    },
    {
     "name": "stdout",
     "output_type": "stream",
     "text": [
      "Running with 20 threads and 1 MPI tasks\n"
     ]
    },
    {
     "name": "stderr",
     "output_type": "stream",
     "text": [
      "srun: unrecognized option '--bind-to'\n",
      "Try \"srun --help\" for more information\n"
     ]
    },
    {
     "name": "stdout",
     "output_type": "stream",
     "text": [
      "Running with 20 threads and 2 MPI tasks\n"
     ]
    },
    {
     "name": "stderr",
     "output_type": "stream",
     "text": [
      "srun: unrecognized option '--bind-to'\n",
      "Try \"srun --help\" for more information\n"
     ]
    },
    {
     "name": "stdout",
     "output_type": "stream",
     "text": [
      "Running with 20 threads and 3 MPI tasks\n"
     ]
    },
    {
     "name": "stderr",
     "output_type": "stream",
     "text": [
      "srun: unrecognized option '--bind-to'\n",
      "Try \"srun --help\" for more information\n"
     ]
    },
    {
     "name": "stdout",
     "output_type": "stream",
     "text": [
      "Running with 20 threads and 4 MPI tasks\n"
     ]
    },
    {
     "name": "stderr",
     "output_type": "stream",
     "text": [
      "srun: unrecognized option '--bind-to'\n",
      "Try \"srun --help\" for more information\n"
     ]
    },
    {
     "name": "stdout",
     "output_type": "stream",
     "text": [
      "Running with 20 threads and 5 MPI tasks\n"
     ]
    },
    {
     "name": "stderr",
     "output_type": "stream",
     "text": [
      "srun: unrecognized option '--bind-to'\n",
      "Try \"srun --help\" for more information\n"
     ]
    },
    {
     "name": "stdout",
     "output_type": "stream",
     "text": [
      "Running with 20 threads and 6 MPI tasks\n"
     ]
    },
    {
     "name": "stderr",
     "output_type": "stream",
     "text": [
      "srun: unrecognized option '--bind-to'\n",
      "Try \"srun --help\" for more information\n"
     ]
    },
    {
     "name": "stdout",
     "output_type": "stream",
     "text": [
      "Running with 20 threads and 7 MPI tasks\n"
     ]
    },
    {
     "name": "stderr",
     "output_type": "stream",
     "text": [
      "srun: unrecognized option '--bind-to'\n",
      "Try \"srun --help\" for more information\n"
     ]
    },
    {
     "name": "stdout",
     "output_type": "stream",
     "text": [
      "Running with 20 threads and 8 MPI tasks\n"
     ]
    },
    {
     "name": "stderr",
     "output_type": "stream",
     "text": [
      "srun: unrecognized option '--bind-to'\n",
      "Try \"srun --help\" for more information\n"
     ]
    },
    {
     "name": "stdout",
     "output_type": "stream",
     "text": [
      "Running with 20 threads and 9 MPI tasks\n"
     ]
    },
    {
     "name": "stderr",
     "output_type": "stream",
     "text": [
      "srun: unrecognized option '--bind-to'\n",
      "Try \"srun --help\" for more information\n"
     ]
    },
    {
     "name": "stdout",
     "output_type": "stream",
     "text": [
      "Running with 20 threads and 10 MPI tasks\n"
     ]
    },
    {
     "name": "stderr",
     "output_type": "stream",
     "text": [
      "srun: unrecognized option '--bind-to'\n",
      "Try \"srun --help\" for more information\n"
     ]
    },
    {
     "name": "stdout",
     "output_type": "stream",
     "text": [
      "Running with 20 threads and 11 MPI tasks\n"
     ]
    },
    {
     "name": "stderr",
     "output_type": "stream",
     "text": [
      "srun: unrecognized option '--bind-to'\n",
      "Try \"srun --help\" for more information\n"
     ]
    },
    {
     "name": "stdout",
     "output_type": "stream",
     "text": [
      "Running with 20 threads and 12 MPI tasks\n"
     ]
    },
    {
     "name": "stderr",
     "output_type": "stream",
     "text": [
      "srun: unrecognized option '--bind-to'\n",
      "Try \"srun --help\" for more information\n"
     ]
    },
    {
     "name": "stdout",
     "output_type": "stream",
     "text": [
      "Running with 20 threads and 13 MPI tasks\n"
     ]
    },
    {
     "name": "stderr",
     "output_type": "stream",
     "text": [
      "srun: unrecognized option '--bind-to'\n",
      "Try \"srun --help\" for more information\n"
     ]
    },
    {
     "name": "stdout",
     "output_type": "stream",
     "text": [
      "Running with 20 threads and 14 MPI tasks\n"
     ]
    },
    {
     "name": "stderr",
     "output_type": "stream",
     "text": [
      "srun: unrecognized option '--bind-to'\n",
      "Try \"srun --help\" for more information\n"
     ]
    },
    {
     "name": "stdout",
     "output_type": "stream",
     "text": [
      "Running with 20 threads and 15 MPI tasks\n"
     ]
    },
    {
     "name": "stderr",
     "output_type": "stream",
     "text": [
      "srun: unrecognized option '--bind-to'\n",
      "Try \"srun --help\" for more information\n"
     ]
    },
    {
     "name": "stdout",
     "output_type": "stream",
     "text": [
      "Running with 20 threads and 16 MPI tasks\n"
     ]
    },
    {
     "name": "stderr",
     "output_type": "stream",
     "text": [
      "srun: unrecognized option '--bind-to'\n",
      "Try \"srun --help\" for more information\n"
     ]
    },
    {
     "name": "stdout",
     "output_type": "stream",
     "text": [
      "Running with 20 threads and 17 MPI tasks\n"
     ]
    },
    {
     "name": "stderr",
     "output_type": "stream",
     "text": [
      "srun: unrecognized option '--bind-to'\n",
      "Try \"srun --help\" for more information\n"
     ]
    },
    {
     "name": "stdout",
     "output_type": "stream",
     "text": [
      "Running with 20 threads and 18 MPI tasks\n"
     ]
    },
    {
     "name": "stderr",
     "output_type": "stream",
     "text": [
      "srun: unrecognized option '--bind-to'\n",
      "Try \"srun --help\" for more information\n"
     ]
    },
    {
     "name": "stdout",
     "output_type": "stream",
     "text": [
      "Running with 20 threads and 19 MPI tasks\n"
     ]
    },
    {
     "name": "stderr",
     "output_type": "stream",
     "text": [
      "srun: unrecognized option '--bind-to'\n",
      "Try \"srun --help\" for more information\n"
     ]
    },
    {
     "name": "stdout",
     "output_type": "stream",
     "text": [
      "Running with 20 threads and 20 MPI tasks\n"
     ]
    },
    {
     "name": "stderr",
     "output_type": "stream",
     "text": [
      "srun: unrecognized option '--bind-to'\n",
      "Try \"srun --help\" for more information\n"
     ]
    }
   ],
   "source": [
    "%%bash -s \"$nx_len\" \"$ny_len\"\n",
    "nx_len=$1\n",
    "ny_len=$2\n",
    "echo \"nx_len = $nx_len, ny_len = $ny_len\"\n",
    "\n",
    "file_name=\"perf\"\n",
    "\n",
    "out_file=\"experiments/out_${nx_len}_${ny_len}_${file_name}.txt\"\n",
    "dims_file=\"experiments/dims_${nx_len}_${ny_len}_${file_name}.txt\"\n",
    "\n",
    "if [[ $(hostname -s) == eiger-* ]]; then\n",
    "  out_file=\"experiments/out_eiger_${nx_len}_${ny_len}_${file_name}.txt\"\n",
    "  dims_file=\"experiments/dims_eiger_${nx_len}_${ny_len}_${file_name}.txt\"\n",
    "fi\n",
    "\n",
    "if [ ! -f \"$out_file\" ]; then\n",
    "  echo \"runtimes = [[[0.0]*73 for _ in range(73)]for _ in range(20)]\" > \"$out_file\"\n",
    "fi\n",
    "\n",
    "if [ ! -f \"$dims_file\" ]; then\n",
    "  echo \"dimensions = [[[0.0]*73 for _ in range(73)]for _ in range(20)]\" > \"$dims_file\"\n",
    "fi\n",
    "HINT=\"--hint=nomultithread\"\n",
    "BIND=\"--cpu-bind=cores\"\n",
    "for iteration in  1; do\n",
    "\n",
    "    for nthreads in $(seq 5 20); do\n",
    "        export OMP_NUM_THREADS=$nthreads\n",
    "    \n",
    "        for nnodes in $(seq 1 20); do\n",
    "            #if (( nthreads * nnodes > 72)); then\n",
    "             # continue\n",
    "            #fi\n",
    "            echo \"Running with $nthreads threads and $nnodes MPI tasks\"\n",
    "            rank_file=\"OMP${nthreads}_MPI${nnodes}_${file_name}_x_nx${nx_len}_ny${ny_len}\"\n",
    "                \n",
    "            if [[ $(hostname -s) == eiger-* ]]; then\n",
    "                output=$(uenv run prgenv-gnu/24.11:v2 --view=default -- srun --ntasks=$nnodes --ntasks-per-node=$nnodes --cpus-per-task=$nthreads ./stencil2d-kparallel_mpi.x --nx 128 --ny 128 --nz 64 --num_iter 1024)\n",
    "            else    \n",
    "                # output=$(srun --ntasks=$nnodes --cpus-per-task=$nthreads ./stencil2d-kparallel_mpi.x --nx $nx_len --ny $ny_len --nz 64 --num_iter 1024)\n",
    "                output=$(srun -N1 --ntasks=$nnodes --cpus-per-task=$nthreads ${HINT} ${BIND} --cpu-bind=verbose \\\n",
    "                 --bind-to core --map-by core  \n",
    "                 ./perf_wrap.sh -n $rank_file ./stencil2d-kparallel_mpi.x --nx $nx_len --ny $ny_len --nz 64 --num_iter 1024)\n",
    "            fi    \n",
    "            data_line=$(echo \"$output\" | grep -oP '\\[\\s*\\d+,\\s*\\d+,\\s*\\d+,\\s*\\d+,\\s*\\d+,\\s*[\\d.E+-]+\\]')\n",
    "            runtime=$(echo \"$data_line\" | sed 's/.*\\[//' | sed 's/\\]//' | cut -d',' -f6 | xargs)\n",
    "            \n",
    "            dims_line=$(echo \"$output\" | grep -oP '\\[\\s*\\d+,\\s*\\d+\\]' | head -n1)\n",
    "            nx=$(echo \"$dims_line\" | sed 's/[][]//g' | cut -d',' -f1 | xargs)\n",
    "            ny=$(echo \"$dims_line\" | sed 's/[][]//g' | cut -d',' -f2 | xargs)\n",
    "            \n",
    "            # Update or append runtime\n",
    "            if grep -q \"runtimes\\[$iteration\\]\\[$nthreads\\]\\[$nnodes\\]\" \"$out_file\"; then\n",
    "                sed -i \"s/runtimes\\[$iteration\\]\\[$nthreads\\]\\[$nnodes\\] = .*/runtimes[$iteration][$nthreads][$nnodes] = $runtime/\" \"$out_file\"\n",
    "            else\n",
    "                echo \"runtimes[$iteration][$nthreads][$nnodes] = $runtime\" >> \"$out_file\"\n",
    "            fi\n",
    "            \n",
    "            # Update or append dimensions\n",
    "            if grep -q \"dimensions\\[$nthreads\\]\\[$nnodes\\]\" \"$dims_file\"; then\n",
    "                sed -i \"s/dimensions\\[$nthreads\\]\\[$nnodes\\] = .*/dimensions[$nthreads][$nnodes] = [$nx, $ny]/\" \"$dims_file\"\n",
    "            else\n",
    "                echo \"dimensions[$nthreads][$nnodes] = [$nx, $ny]\" >> \"$dims_file\"\n",
    "            fi\n",
    "        done\n",
    "    done\n",
    "done"
   ]
  },
  {
   "cell_type": "code",
   "execution_count": 8,
   "id": "f1743ebd-0f2b-48d0-85dc-ef288b38d7e6",
   "metadata": {},
   "outputs": [],
   "source": [
    "nx_len=512\n",
    "ny_len=512\n",
    "file_name=f\"out_{nx_len}_{ny_len}_onecpu.txt\""
   ]
  },
  {
   "cell_type": "code",
   "execution_count": 9,
   "id": "028ad9d7-1e87-427d-9ffc-55c501786b11",
   "metadata": {},
   "outputs": [
    {
     "name": "stdout",
     "output_type": "stream",
     "text": [
      "baseline runtime 9.963039\n"
     ]
    },
    {
     "name": "stderr",
     "output_type": "stream",
     "text": [
      "/tmp/ipykernel_29834/8826429.py:7: RuntimeWarning: Mean of empty slice\n",
      "  runtimes = np.nanmean(masked, axis=0)\n"
     ]
    }
   ],
   "source": [
    "exec(open(f\"./experiments/\"+file_name, \"r\").read())\n",
    "#### Define baseline runtime\n",
    "\n",
    "\n",
    "runtimes_arr = np.array(runtimes)\n",
    "masked = np.where(runtimes_arr > 0, runtimes_arr, np.nan)\n",
    "runtimes = np.nanmean(masked, axis=0)\n",
    "\n",
    "T_baseline=runtimes[1][1]\n",
    "print('baseline runtime', T_baseline)\n",
    "\n",
    "\n",
    "labels = []\n",
    "times = []\n",
    "speedups= []\n",
    "# for niters in range(len(runtimes)):\n",
    "for nthreads in range(len(runtimes)):\n",
    "    for nnodes in range(len(runtimes[nthreads])):\n",
    "        runtime = (runtimes[nthreads][nnodes] )\n",
    "    \n",
    "        # if nthreads*nnodes>4*74:\n",
    "        #     runtime=0.0\n",
    "        #     runtimes[nthreads][nnodes]=0.0\n",
    "        if runtime > 0.0:  # only plot entries that were filled\n",
    "            labels.append([nthreads, nnodes])\n",
    "            times.append(runtime)\n",
    "            speedups.append(T_baseline/runtime)"
   ]
  },
  {
   "cell_type": "code",
   "execution_count": 10,
   "id": "3d2db62a-6255-41d6-b050-3e32629de5c5",
   "metadata": {},
   "outputs": [
    {
     "data": {
      "image/png": "[encoded data removed]",
      "text/plain": [
       "<Figure size 1000x600 with 1 Axes>"
      ]
     },
     "metadata": {},
     "output_type": "display_data"
    }
   ],
   "source": [
    "\n",
    "ranks = np.arange(1, 128, 1)\n",
    "runtimes_array = np.array(runtimes)\n",
    "nthreads = np.arange((runtimes_array.shape[0]))\n",
    "nranks = np.arange(runtimes_array.shape[1])  # column indices = MPI ranks\n",
    "plt.figure(figsize=(10, 6))\n",
    "\n",
    "cmap = cm.bamako_r\n",
    "colors = [cmap(i / (len(nranks) - 1)) for i in range(len(nranks))]\n",
    "markers = ['o', 's', '^', 'v', 'D', 'P', '*', 'X', 'h', '<', '>', '8', 'p']\n",
    "\n",
    "for idx, j in enumerate(ranks):\n",
    "    if j >= len(nranks):\n",
    "        continue  # skip ranks out of bounds\n",
    "    color = colors[j % len(colors)]\n",
    "    runtimes_j = T_baseline / (runtimes_array[:, j])\n",
    "    if np.any(runtimes_j > 0):\n",
    "        marker = markers[j % len(markers)]  # Cycle through markers\n",
    "        plt.plot(nthreads, runtimes_j, label=f\"{j} MPI ranks\", color=color, marker=marker)\n",
    "\n",
    "plt.xlabel(\"OMP Threads\")\n",
    "plt.ylabel(\"Speedup\")\n",
    "plt.title(f\"Speedup vs OMP Threads [{nx_len}, {ny_len}] 1 GH CPU\")\n",
    "plt.legend(title=\"MPI Ranks\", bbox_to_anchor=(1.05, 1), loc='upper left', fontsize=7, ncol=2)\n",
    "plt.grid(True)\n",
    "plt.xlim(0, 42)\n",
    "plt.tight_layout()\n",
    "plt.savefig(f'./plots/Speedup_domain_graphs_{nx_len}_{ny_len}_1GHCPU', bbox_inches='tight', dpi=300)\n",
    "plt.show()"
   ]
  },
  {
   "cell_type": "code",
   "execution_count": 11,
   "id": "b99c2697-35fb-4b69-9f33-e54177561823",
   "metadata": {},
   "outputs": [
    {
     "data": {
      "image/png": "[encoded data removed]",
      "text/plain": [
       "<Figure size 1000x600 with 2 Axes>"
      ]
     },
     "metadata": {},
     "output_type": "display_data"
    }
   ],
   "source": [
    "labels_array = np.array(labels)\n",
    "nthreads = sorted(set(labels_array[:, 0]))\n",
    "nranks = sorted(set(labels_array[:, 1]))\n",
    "\n",
    "heatmap = np.full((len(nthreads), len(nranks)), np.nan)\n",
    "\n",
    "for (t, r), val in zip(labels, speedups):\n",
    "    i = nthreads.index(t)\n",
    "    j = nranks.index(r)\n",
    "    heatmap[i, j] = val\n",
    "heatmap=heatmap.T\n",
    "\n",
    "fig, ax = plt.subplots(figsize=(10, 6))\n",
    "c = ax.imshow(heatmap, cmap=cm.bamako, origin='lower', \n",
    "              vmin=1,\n",
    "              # norm=LogNorm(vmin=np.nanmin(heatmap[heatmap > 0]), vmax=np.nanmax(heatmap)),\n",
    "              aspect='auto'\n",
    "              )\n",
    "\n",
    "\n",
    "ax.set_ylabel('MPI Ranks')\n",
    "ax.set_xlabel('OMP Threads')\n",
    "ax.set_title(f'Speedup for domain size [{nx_len}, {ny_len}]')\n",
    "fig.colorbar(c, label='Speedup', shrink=0.8, pad=0.01) \n",
    "ax.set_xticks(np.arange(len(nthreads)))\n",
    "ax.set_xticklabels([str(x) if i % 5 == 0 else \"\" for i, x in enumerate(nthreads)])\n",
    "ax.set_yticks(np.arange(len(nranks)))\n",
    "ax.set_yticklabels([str(y) if i % 5 == 0 else \"\" for i, y in enumerate(nranks)])\n",
    "plt.tight_layout()\n",
    "plt.savefig(f'./plots/Speedup_domain_{nx_len}_{ny_len}_1GH_CPU', bbox_inches='tight', dpi=300)\n",
    "plt.show()"
   ]
  },
  {
   "cell_type": "code",
   "execution_count": 49,
   "id": "7474d447-e21e-41ce-bbc9-14ea0ca01ce5",
   "metadata": {},
   "outputs": [
    {
     "data": {
      "text/html": [
       "<div>\n",
       "<style scoped>\n",
       "    .dataframe tbody tr th:only-of-type {\n",
       "        vertical-align: middle;\n",
       "    }\n",
       "\n",
       "    .dataframe tbody tr th {\n",
       "        vertical-align: top;\n",
       "    }\n",
       "\n",
       "    .dataframe thead th {\n",
       "        text-align: right;\n",
       "    }\n",
       "</style>\n",
       "<table border=\"1\" class=\"dataframe\">\n",
       "  <thead>\n",
       "    <tr style=\"text-align: right;\">\n",
       "      <th></th>\n",
       "      <th>OMP</th>\n",
       "      <th>MPI</th>\n",
       "      <th>nx</th>\n",
       "      <th>ny</th>\n",
       "      <th>mem_access_rd</th>\n",
       "      <th>mem_access_wr</th>\n",
       "      <th>LLC-load-misses</th>\n",
       "      <th>seconds time elapsed</th>\n",
       "      <th>FP_SCALE_OPS_SPEC</th>\n",
       "      <th>FP_FIXED_OPS_SPEC</th>\n",
       "      <th>total_dram_accesses_per_core_in_Bytes</th>\n",
       "      <th>total_mem_accesses_per_core_in_Bytes</th>\n",
       "      <th>runtime</th>\n",
       "      <th>Gflops</th>\n",
       "      <th>Gbytes_moved</th>\n",
       "      <th>performance</th>\n",
       "      <th>intensity</th>\n",
       "    </tr>\n",
       "  </thead>\n",
       "  <tbody>\n",
       "    <tr>\n",
       "      <th>OMP10_MPI10_perf_x_nx512_ny512</th>\n",
       "      <td>10</td>\n",
       "      <td>10</td>\n",
       "      <td>512</td>\n",
       "      <td>512</td>\n",
       "      <td>53889453777</td>\n",
       "      <td>9338135444</td>\n",
       "      <td>67727936</td>\n",
       "      <td>2.597881</td>\n",
       "      <td>674550356</td>\n",
       "      <td>206738169505</td>\n",
       "      <td>4.334588e+09</td>\n",
       "      <td>2.529104e+11</td>\n",
       "      <td>2.597881</td>\n",
       "      <td>207.412720</td>\n",
       "      <td>312.090329</td>\n",
       "      <td>79.839183</td>\n",
       "      <td>0.664592</td>\n",
       "    </tr>\n",
       "    <tr>\n",
       "      <th>OMP10_MPI10_perf_x_nx64_ny64</th>\n",
       "      <td>10</td>\n",
       "      <td>10</td>\n",
       "      <td>64</td>\n",
       "      <td>64</td>\n",
       "      <td>3238219875</td>\n",
       "      <td>232413314</td>\n",
       "      <td>20305527</td>\n",
       "      <td>0.117308</td>\n",
       "      <td>86660612</td>\n",
       "      <td>3276644554</td>\n",
       "      <td>1.299554e+09</td>\n",
       "      <td>1.388253e+10</td>\n",
       "      <td>0.117308</td>\n",
       "      <td>3.363305</td>\n",
       "      <td>93.567868</td>\n",
       "      <td>28.670813</td>\n",
       "      <td>0.035945</td>\n",
       "    </tr>\n",
       "    <tr>\n",
       "      <th>OMP10_MPI11_perf_x_nx512_ny512</th>\n",
       "      <td>10</td>\n",
       "      <td>11</td>\n",
       "      <td>512</td>\n",
       "      <td>512</td>\n",
       "      <td>53849045749</td>\n",
       "      <td>9338221731</td>\n",
       "      <td>66222720</td>\n",
       "      <td>2.638414</td>\n",
       "      <td>674529592</td>\n",
       "      <td>206743182993</td>\n",
       "      <td>4.238254e+09</td>\n",
       "      <td>2.527491e+11</td>\n",
       "      <td>2.638414</td>\n",
       "      <td>207.417713</td>\n",
       "      <td>305.154294</td>\n",
       "      <td>78.614551</td>\n",
       "      <td>0.679714</td>\n",
       "    </tr>\n",
       "    <tr>\n",
       "      <th>OMP10_MPI11_perf_x_nx64_ny64</th>\n",
       "      <td>10</td>\n",
       "      <td>11</td>\n",
       "      <td>64</td>\n",
       "      <td>64</td>\n",
       "      <td>3277007877</td>\n",
       "      <td>232400470</td>\n",
       "      <td>20825464</td>\n",
       "      <td>0.116557</td>\n",
       "      <td>86647288</td>\n",
       "      <td>3276370426</td>\n",
       "      <td>1.332830e+09</td>\n",
       "      <td>1.403763e+10</td>\n",
       "      <td>0.116557</td>\n",
       "      <td>3.363018</td>\n",
       "      <td>95.963738</td>\n",
       "      <td>28.852877</td>\n",
       "      <td>0.035045</td>\n",
       "    </tr>\n",
       "    <tr>\n",
       "      <th>OMP10_MPI12_perf_x_nx512_ny512</th>\n",
       "      <td>10</td>\n",
       "      <td>12</td>\n",
       "      <td>512</td>\n",
       "      <td>512</td>\n",
       "      <td>53813276518</td>\n",
       "      <td>9339254581</td>\n",
       "      <td>61015151</td>\n",
       "      <td>2.409266</td>\n",
       "      <td>674696760</td>\n",
       "      <td>206770312161</td>\n",
       "      <td>3.904970e+09</td>\n",
       "      <td>2.526101e+11</td>\n",
       "      <td>2.409266</td>\n",
       "      <td>207.445009</td>\n",
       "      <td>281.157816</td>\n",
       "      <td>86.102985</td>\n",
       "      <td>0.737824</td>\n",
       "    </tr>\n",
       "    <tr>\n",
       "      <th>...</th>\n",
       "      <td>...</td>\n",
       "      <td>...</td>\n",
       "      <td>...</td>\n",
       "      <td>...</td>\n",
       "      <td>...</td>\n",
       "      <td>...</td>\n",
       "      <td>...</td>\n",
       "      <td>...</td>\n",
       "      <td>...</td>\n",
       "      <td>...</td>\n",
       "      <td>...</td>\n",
       "      <td>...</td>\n",
       "      <td>...</td>\n",
       "      <td>...</td>\n",
       "      <td>...</td>\n",
       "      <td>...</td>\n",
       "      <td>...</td>\n",
       "    </tr>\n",
       "    <tr>\n",
       "      <th>OMP9_MPI7_perf_x_nx64_ny64</th>\n",
       "      <td>9</td>\n",
       "      <td>7</td>\n",
       "      <td>64</td>\n",
       "      <td>64</td>\n",
       "      <td>3045052630</td>\n",
       "      <td>232251329</td>\n",
       "      <td>19897382</td>\n",
       "      <td>0.121299</td>\n",
       "      <td>86652140</td>\n",
       "      <td>3276531438</td>\n",
       "      <td>1.273432e+09</td>\n",
       "      <td>1.310922e+10</td>\n",
       "      <td>0.121299</td>\n",
       "      <td>3.363184</td>\n",
       "      <td>91.687136</td>\n",
       "      <td>27.726410</td>\n",
       "      <td>0.036681</td>\n",
       "    </tr>\n",
       "    <tr>\n",
       "      <th>OMP9_MPI8_perf_x_nx512_ny512</th>\n",
       "      <td>9</td>\n",
       "      <td>8</td>\n",
       "      <td>512</td>\n",
       "      <td>512</td>\n",
       "      <td>53930074433</td>\n",
       "      <td>9337523370</td>\n",
       "      <td>81126749</td>\n",
       "      <td>2.986447</td>\n",
       "      <td>674477820</td>\n",
       "      <td>206725059431</td>\n",
       "      <td>5.192112e+09</td>\n",
       "      <td>2.530704e+11</td>\n",
       "      <td>2.986447</td>\n",
       "      <td>207.399537</td>\n",
       "      <td>373.832059</td>\n",
       "      <td>69.446919</td>\n",
       "      <td>0.554793</td>\n",
       "    </tr>\n",
       "    <tr>\n",
       "      <th>OMP9_MPI8_perf_x_nx64_ny64</th>\n",
       "      <td>9</td>\n",
       "      <td>8</td>\n",
       "      <td>64</td>\n",
       "      <td>64</td>\n",
       "      <td>2975832738</td>\n",
       "      <td>232202977</td>\n",
       "      <td>20779082</td>\n",
       "      <td>0.115943</td>\n",
       "      <td>86658972</td>\n",
       "      <td>3276531574</td>\n",
       "      <td>1.329861e+09</td>\n",
       "      <td>1.283214e+10</td>\n",
       "      <td>0.115943</td>\n",
       "      <td>3.363191</td>\n",
       "      <td>95.750010</td>\n",
       "      <td>29.007259</td>\n",
       "      <td>0.035125</td>\n",
       "    </tr>\n",
       "    <tr>\n",
       "      <th>OMP9_MPI9_perf_x_nx512_ny512</th>\n",
       "      <td>9</td>\n",
       "      <td>9</td>\n",
       "      <td>512</td>\n",
       "      <td>512</td>\n",
       "      <td>53930028796</td>\n",
       "      <td>9337638201</td>\n",
       "      <td>58717848</td>\n",
       "      <td>2.777941</td>\n",
       "      <td>674503120</td>\n",
       "      <td>206730786242</td>\n",
       "      <td>3.757942e+09</td>\n",
       "      <td>2.530707e+11</td>\n",
       "      <td>2.777941</td>\n",
       "      <td>207.405289</td>\n",
       "      <td>270.571844</td>\n",
       "      <td>74.661515</td>\n",
       "      <td>0.766544</td>\n",
       "    </tr>\n",
       "    <tr>\n",
       "      <th>OMP9_MPI9_perf_x_nx64_ny64</th>\n",
       "      <td>9</td>\n",
       "      <td>9</td>\n",
       "      <td>64</td>\n",
       "      <td>64</td>\n",
       "      <td>2962054736</td>\n",
       "      <td>232213741</td>\n",
       "      <td>19494498</td>\n",
       "      <td>0.116050</td>\n",
       "      <td>86640764</td>\n",
       "      <td>3276237288</td>\n",
       "      <td>1.247648e+09</td>\n",
       "      <td>1.277707e+10</td>\n",
       "      <td>0.116050</td>\n",
       "      <td>3.362878</td>\n",
       "      <td>89.830647</td>\n",
       "      <td>28.977939</td>\n",
       "      <td>0.037436</td>\n",
       "    </tr>\n",
       "  </tbody>\n",
       "</table>\n",
       "<p>490 rows × 17 columns</p>\n",
       "</div>"
      ],
      "text/plain": [
       "                                OMP  MPI   nx   ny  mem_access_rd  \\\n",
       "OMP10_MPI10_perf_x_nx512_ny512   10   10  512  512    53889453777   \n",
       "OMP10_MPI10_perf_x_nx64_ny64     10   10   64   64     3238219875   \n",
       "OMP10_MPI11_perf_x_nx512_ny512   10   11  512  512    53849045749   \n",
       "OMP10_MPI11_perf_x_nx64_ny64     10   11   64   64     3277007877   \n",
       "OMP10_MPI12_perf_x_nx512_ny512   10   12  512  512    53813276518   \n",
       "...                             ...  ...  ...  ...            ...   \n",
       "OMP9_MPI7_perf_x_nx64_ny64        9    7   64   64     3045052630   \n",
       "OMP9_MPI8_perf_x_nx512_ny512      9    8  512  512    53930074433   \n",
       "OMP9_MPI8_perf_x_nx64_ny64        9    8   64   64     2975832738   \n",
       "OMP9_MPI9_perf_x_nx512_ny512      9    9  512  512    53930028796   \n",
       "OMP9_MPI9_perf_x_nx64_ny64        9    9   64   64     2962054736   \n",
       "\n",
       "                                mem_access_wr  LLC-load-misses  \\\n",
       "OMP10_MPI10_perf_x_nx512_ny512     9338135444         67727936   \n",
       "OMP10_MPI10_perf_x_nx64_ny64        232413314         20305527   \n",
       "OMP10_MPI11_perf_x_nx512_ny512     9338221731         66222720   \n",
       "OMP10_MPI11_perf_x_nx64_ny64        232400470         20825464   \n",
       "OMP10_MPI12_perf_x_nx512_ny512     9339254581         61015151   \n",
       "...                                       ...              ...   \n",
       "OMP9_MPI7_perf_x_nx64_ny64          232251329         19897382   \n",
       "OMP9_MPI8_perf_x_nx512_ny512       9337523370         81126749   \n",
       "OMP9_MPI8_perf_x_nx64_ny64          232202977         20779082   \n",
       "OMP9_MPI9_perf_x_nx512_ny512       9337638201         58717848   \n",
       "OMP9_MPI9_perf_x_nx64_ny64          232213741         19494498   \n",
       "\n",
       "                                seconds time elapsed  FP_SCALE_OPS_SPEC  \\\n",
       "OMP10_MPI10_perf_x_nx512_ny512              2.597881          674550356   \n",
       "OMP10_MPI10_perf_x_nx64_ny64                0.117308           86660612   \n",
       "OMP10_MPI11_perf_x_nx512_ny512              2.638414          674529592   \n",
       "OMP10_MPI11_perf_x_nx64_ny64                0.116557           86647288   \n",
       "OMP10_MPI12_perf_x_nx512_ny512              2.409266          674696760   \n",
       "...                                              ...                ...   \n",
       "OMP9_MPI7_perf_x_nx64_ny64                  0.121299           86652140   \n",
       "OMP9_MPI8_perf_x_nx512_ny512                2.986447          674477820   \n",
       "OMP9_MPI8_perf_x_nx64_ny64                  0.115943           86658972   \n",
       "OMP9_MPI9_perf_x_nx512_ny512                2.777941          674503120   \n",
       "OMP9_MPI9_perf_x_nx64_ny64                  0.116050           86640764   \n",
       "\n",
       "                                FP_FIXED_OPS_SPEC  \\\n",
       "OMP10_MPI10_perf_x_nx512_ny512       206738169505   \n",
       "OMP10_MPI10_perf_x_nx64_ny64           3276644554   \n",
       "OMP10_MPI11_perf_x_nx512_ny512       206743182993   \n",
       "OMP10_MPI11_perf_x_nx64_ny64           3276370426   \n",
       "OMP10_MPI12_perf_x_nx512_ny512       206770312161   \n",
       "...                                           ...   \n",
       "OMP9_MPI7_perf_x_nx64_ny64             3276531438   \n",
       "OMP9_MPI8_perf_x_nx512_ny512         206725059431   \n",
       "OMP9_MPI8_perf_x_nx64_ny64             3276531574   \n",
       "OMP9_MPI9_perf_x_nx512_ny512         206730786242   \n",
       "OMP9_MPI9_perf_x_nx64_ny64             3276237288   \n",
       "\n",
       "                                total_dram_accesses_per_core_in_Bytes  \\\n",
       "OMP10_MPI10_perf_x_nx512_ny512                           4.334588e+09   \n",
       "OMP10_MPI10_perf_x_nx64_ny64                             1.299554e+09   \n",
       "OMP10_MPI11_perf_x_nx512_ny512                           4.238254e+09   \n",
       "OMP10_MPI11_perf_x_nx64_ny64                             1.332830e+09   \n",
       "OMP10_MPI12_perf_x_nx512_ny512                           3.904970e+09   \n",
       "...                                                               ...   \n",
       "OMP9_MPI7_perf_x_nx64_ny64                               1.273432e+09   \n",
       "OMP9_MPI8_perf_x_nx512_ny512                             5.192112e+09   \n",
       "OMP9_MPI8_perf_x_nx64_ny64                               1.329861e+09   \n",
       "OMP9_MPI9_perf_x_nx512_ny512                             3.757942e+09   \n",
       "OMP9_MPI9_perf_x_nx64_ny64                               1.247648e+09   \n",
       "\n",
       "                                total_mem_accesses_per_core_in_Bytes  \\\n",
       "OMP10_MPI10_perf_x_nx512_ny512                          2.529104e+11   \n",
       "OMP10_MPI10_perf_x_nx64_ny64                            1.388253e+10   \n",
       "OMP10_MPI11_perf_x_nx512_ny512                          2.527491e+11   \n",
       "OMP10_MPI11_perf_x_nx64_ny64                            1.403763e+10   \n",
       "OMP10_MPI12_perf_x_nx512_ny512                          2.526101e+11   \n",
       "...                                                              ...   \n",
       "OMP9_MPI7_perf_x_nx64_ny64                              1.310922e+10   \n",
       "OMP9_MPI8_perf_x_nx512_ny512                            2.530704e+11   \n",
       "OMP9_MPI8_perf_x_nx64_ny64                              1.283214e+10   \n",
       "OMP9_MPI9_perf_x_nx512_ny512                            2.530707e+11   \n",
       "OMP9_MPI9_perf_x_nx64_ny64                              1.277707e+10   \n",
       "\n",
       "                                 runtime      Gflops  Gbytes_moved  \\\n",
       "OMP10_MPI10_perf_x_nx512_ny512  2.597881  207.412720    312.090329   \n",
       "OMP10_MPI10_perf_x_nx64_ny64    0.117308    3.363305     93.567868   \n",
       "OMP10_MPI11_perf_x_nx512_ny512  2.638414  207.417713    305.154294   \n",
       "OMP10_MPI11_perf_x_nx64_ny64    0.116557    3.363018     95.963738   \n",
       "OMP10_MPI12_perf_x_nx512_ny512  2.409266  207.445009    281.157816   \n",
       "...                                  ...         ...           ...   \n",
       "OMP9_MPI7_perf_x_nx64_ny64      0.121299    3.363184     91.687136   \n",
       "OMP9_MPI8_perf_x_nx512_ny512    2.986447  207.399537    373.832059   \n",
       "OMP9_MPI8_perf_x_nx64_ny64      0.115943    3.363191     95.750010   \n",
       "OMP9_MPI9_perf_x_nx512_ny512    2.777941  207.405289    270.571844   \n",
       "OMP9_MPI9_perf_x_nx64_ny64      0.116050    3.362878     89.830647   \n",
       "\n",
       "                                performance  intensity  \n",
       "OMP10_MPI10_perf_x_nx512_ny512    79.839183   0.664592  \n",
       "OMP10_MPI10_perf_x_nx64_ny64      28.670813   0.035945  \n",
       "OMP10_MPI11_perf_x_nx512_ny512    78.614551   0.679714  \n",
       "OMP10_MPI11_perf_x_nx64_ny64      28.852877   0.035045  \n",
       "OMP10_MPI12_perf_x_nx512_ny512    86.102985   0.737824  \n",
       "...                                     ...        ...  \n",
       "OMP9_MPI7_perf_x_nx64_ny64        27.726410   0.036681  \n",
       "OMP9_MPI8_perf_x_nx512_ny512      69.446919   0.554793  \n",
       "OMP9_MPI8_perf_x_nx64_ny64        29.007259   0.035125  \n",
       "OMP9_MPI9_perf_x_nx512_ny512      74.661515   0.766544  \n",
       "OMP9_MPI9_perf_x_nx64_ny64        28.977939   0.037436  \n",
       "\n",
       "[490 rows x 17 columns]"
      ]
     },
     "metadata": {},
     "output_type": "display_data"
    },
    {
     "name": "stdout",
     "output_type": "stream",
     "text": [
      "\n",
      "Saved matrix to: perf_metrics_summary.csv\n",
      "Parsed 490 files from: /users/class179/HPC4WC_proj5/perf\n"
     ]
    }
   ],
   "source": [
    "from pathlib import Path\n",
    "import re\n",
    "import pandas as pd\n",
    "\n",
    "# ========================= User configuration =========================\n",
    "# Folder that contains the perf .txt files (change this to your folder)\n",
    "DATA_DIR = Path('./perf/')   # e.g., Path(\"/path/to/perf/outputs\")\n",
    "FILE_GLOB = \"*.txt\"            # pattern of files to parse\n",
    "OUTPUT_CSV = \"perf_metrics_summary.csv\"\n",
    "# =====================================================================\n",
    "\n",
    "# ------------------------- Helper functions ---------------------------\n",
    "# NOTE: Regex patterns for extracting metrics from file content\n",
    "METRIC_PATTERNS = {\n",
    "    \"mem_access_rd\":      re.compile(r\"([\\d,]+)\\s+mem_access_rd(?::[a-z])?\\b\", re.IGNORECASE),\n",
    "    \"mem_access_wr\":      re.compile(r\"([\\d,]+)\\s+mem_access_wr(?::[a-z])?\\b\", re.IGNORECASE),\n",
    "    \"LLC-load-misses\":    re.compile(r\"([\\d,]+)\\s+LLC-load-misses\\b\", re.IGNORECASE),\n",
    "    \"FP_SCALE_OPS_SPEC\":  re.compile(r\"([\\d,]+)\\s+FP_SCALE_OPS_SPEC\\b\", re.IGNORECASE),\n",
    "    \"FP_FIXED_OPS_SPEC\":  re.compile(r\"([\\d,]+)\\s+FP_FIXED_OPS_SPEC\\b\", re.IGNORECASE),\n",
    "    \"seconds time elapsed\": re.compile(r\"([\\d.,]+)\\s+seconds time elapsed\\b\", re.IGNORECASE),\n",
    "}\n",
    "\n",
    "def _to_number(s: str):\n",
    "    \"\"\"Convert a string with commas or decimals into int or float.\"\"\"\n",
    "    if s is None:\n",
    "        return None\n",
    "    s = s.replace(\",\", \"\")\n",
    "    return float(s) if \".\" in s else int(s)\n",
    "\n",
    "def parse_perf_file(path: Path) -> dict:\n",
    "    \"\"\"Parse one perf .txt file and return metrics as dict.\"\"\"\n",
    "    text = path.read_text(errors=\"ignore\")\n",
    "    result = {}\n",
    "    for metric, pattern in METRIC_PATTERNS.items():\n",
    "        m = pattern.search(text)\n",
    "        value = _to_number(m.group(1)) if m else None\n",
    "        result[metric] = value\n",
    "    return result\n",
    "\n",
    "def parse_filename_info(filename: str) -> dict:\n",
    "    \"\"\"\n",
    "    Extract configuration info (OMP, MPI, nx, ny) from filename.\n",
    "    Example: OMP12_MPI4_perf_x_nx512_ny512.txt\n",
    "    \"\"\"\n",
    "    info = {}\n",
    "    m = re.search(r\"OMP(\\d+)\", filename, re.IGNORECASE)\n",
    "    info[\"OMP\"] = int(m.group(1)) if m else None\n",
    "    \n",
    "    m = re.search(r\"MPI(\\d+)\", filename, re.IGNORECASE)\n",
    "    info[\"MPI\"] = int(m.group(1)) if m else None\n",
    "    \n",
    "    m = re.search(r\"nx(\\d+)\", filename, re.IGNORECASE)\n",
    "    info[\"nx\"] = int(m.group(1)) if m else None\n",
    "    \n",
    "    m = re.search(r\"ny(\\d+)\", filename, re.IGNORECASE)\n",
    "    info[\"ny\"] = int(m.group(1)) if m else None\n",
    "    \n",
    "    return info\n",
    "\n",
    "# --------------------------- Main routine -----------------------------\n",
    "files = sorted(DATA_DIR.glob(FILE_GLOB))\n",
    "if not files:\n",
    "    raise FileNotFoundError(f\"No files matched {FILE_GLOB} in {DATA_DIR.resolve()}\")\n",
    "\n",
    "rows = []\n",
    "index = []\n",
    "for f in files:\n",
    "    metrics = parse_perf_file(f)\n",
    "    config = parse_filename_info(f.name)\n",
    "    metrics.update(config)  # add OMP, MPI, nx, ny\n",
    "    rows.append(metrics)\n",
    "    index.append(f.stem)  # row name\n",
    "\n",
    "df = pd.DataFrame(rows, index=index)\n",
    "\n",
    "# Reorder columns to requested order + config info\n",
    "ordered_cols = [\n",
    "    \"OMP\", \"MPI\", \"nx\", \"ny\",\n",
    "    \"mem_access_rd\",\n",
    "    \"mem_access_wr\",\n",
    "    \"LLC-load-misses\",\n",
    "    \"seconds time elapsed\",\n",
    "    \"FP_SCALE_OPS_SPEC\",\n",
    "    \"FP_FIXED_OPS_SPEC\",\n",
    "]\n",
    "df = df.reindex(columns=ordered_cols)\n",
    "\n",
    "# ---------------------- Derived metrics ----------------------\n",
    "# Assumptions and notes:\n",
    "#   * total_dram_accesses_per_core_in_Bytes = LLC-load-misses * 64 (bytes per cache line)\n",
    "#   * total_mem_accesses_per_core_in_Bytes = (mem_access_rd + mem_access_wr) * 4 (bytes per access)\n",
    "#   * flops = FP_SCALE_OPS_SPEC + FP_FIXED_OPS_SPEC\n",
    "#   * runtime = seconds time elapsed\n",
    "#   * Gbytes_moved = total_dram_accesses_per_core_in_Bytes * 72 / 1e9 (as requested)\n",
    "#   * performance = flops / runtime\n",
    "#   * intensity = flops / bytes_moved    (bytes_moved introduced below for convenience)\n",
    "\n",
    "# Ensure numeric dtype for vectorized operations (keep NaN if missing)\n",
    "for c in [\"mem_access_rd\", \"mem_access_wr\", \"LLC-load-misses\",\n",
    "          \"FP_SCALE_OPS_SPEC\", \"FP_FIXED_OPS_SPEC\", \"seconds time elapsed\"]:\n",
    "    df[c] = pd.to_numeric(df[c], errors=\"coerce\")\n",
    "\n",
    "# Base derived columns\n",
    "df[\"total_dram_accesses_per_core_in_Bytes\"] = df[\"LLC-load-misses\"] * 64.0\n",
    "df[\"total_mem_accesses_per_core_in_Bytes\"] = (df[\"mem_access_rd\"] + df[\"mem_access_wr\"]) * 4.0\n",
    "df[\"flops\"] = df[\"FP_SCALE_OPS_SPEC\"] + df[\"FP_FIXED_OPS_SPEC\"]\n",
    "df[\"runtime\"] = df[\"seconds time elapsed\"]\n",
    "\n",
    "# Bytes moved (introduced to compute 'intensidad'); also compute GBytes as requested\n",
    "df[\"bytes_moved\"]  = df[\"total_dram_accesses_per_core_in_Bytes\"] * 72.0\n",
    "\n",
    "df[\"Gflops\"] = df[\"flops\"] / 1e9\n",
    "df[\"Gbytes_moved\"] = df[\"bytes_moved\"] / 1e9\n",
    "\n",
    "# Performance and intensity (avoid division by zero)\n",
    "df[\"performance\"] = np.where(df[\"runtime\"] > 0, df[\"Gflops\"] / df[\"runtime\"], np.nan)\n",
    "df[\"intensity\"] = np.where(df[\"bytes_moved\"] > 0, df[\"Gflops\"] / df[\"Gbytes_moved\"], np.nan)\n",
    "\n",
    "# Move the derived columns to the end explicitly (already appended at end by creation order).\n",
    "derived_cols = [\n",
    "    \"total_dram_accesses_per_core_in_Bytes\",\n",
    "    \"total_mem_accesses_per_core_in_Bytes\",\n",
    "    \"runtime\",\n",
    "    \"Gflops\",\n",
    "    \"Gbytes_moved\",\n",
    "    \"performance\",\n",
    "    \"intensity\",\n",
    "]\n",
    "df = df[[*ordered_cols, *derived_cols]]\n",
    "\n",
    "# Save and show\n",
    "df.to_csv(OUTPUT_CSV, index=True)\n",
    "display(df)\n",
    "print(f\"\\nSaved matrix to: {OUTPUT_CSV}\")\n",
    "print(f\"Parsed {len(files)} files from: {DATA_DIR.resolve()}\")\n",
    "\n"
   ]
  },
  {
   "cell_type": "code",
   "execution_count": 50,
   "id": "48b815bc-e88a-4305-8692-dbe02bd48c19",
   "metadata": {},
   "outputs": [
    {
     "name": "stdout",
     "output_type": "stream",
     "text": [
      "Saved group stats -> group_stats_summary.csv\n"
     ]
    }
   ],
   "source": [
    "import matplotlib.pyplot as plt\n",
    "\n",
    "AGG_CSV  = \"group_stats_summary.csv\"\n",
    "PLOT_PNG = \"roofline_santis.png\"\n",
    "\n",
    "# Santis CPU (Grace) ceilings — per node (adjust if needed)\n",
    "N_GRACE_PER_NODE = 4               # number of Grace CPUs per node you want to model\n",
    "BW_PER_GRACE_CPU = 512e9           # bytes/s per Grace CPU (LPDDR5X)\n",
    "PEAK_FP64_PER_GRACE_CPU = 3.960576e12  # flop/s per Grace CPU (approx.)\n",
    "\n",
    "\n",
    "# ------------------------- Group stats (nx, ny) -----------------------\n",
    "agg = (df.groupby([\"nx\", \"ny\"], dropna=False)\n",
    "         .agg(intensity_mean=(\"intensity\", \"mean\"),\n",
    "              intensity_min =(\"intensity\", \"min\"),\n",
    "              intensity_max =(\"intensity\", \"max\"),\n",
    "              perf_mean      =(\"performance\", \"mean\"),\n",
    "              perf_min       =(\"performance\", \"min\"),\n",
    "              perf_max       =(\"performance\", \"max\"),\n",
    "              n=(\"performance\", \"count\"))\n",
    "         .reset_index())\n",
    "\n",
    "agg.to_csv(AGG_CSV, index=False)\n",
    "print(f\"Saved group stats -> {AGG_CSV}\")\n"
   ]
  },
  {
   "cell_type": "code",
   "execution_count": 68,
   "id": "036f7bba-93fd-4aa8-abbf-34f69019bf37",
   "metadata": {},
   "outputs": [
    {
     "data": {
      "text/plain": [
       "array([0.00371421, 0.2618463 ])"
      ]
     },
     "execution_count": 68,
     "metadata": {},
     "output_type": "execute_result"
    }
   ],
   "source": [
    "xerr[0]"
   ]
  },
  {
   "cell_type": "code",
   "execution_count": 66,
   "id": "ac407cfe-9fa0-4be6-bc62-378cd1768dbd",
   "metadata": {},
   "outputs": [
    {
     "ename": "ValueError",
     "evalue": "'xerr' (shape: (1, 2)) must be a scalar or a 1D or (2, n) array-like whose shape matches 'x' (shape: (1,))",
     "output_type": "error",
     "traceback": [
      "\u001b[31m---------------------------------------------------------------------------\u001b[39m",
      "\u001b[31mValueError\u001b[39m                                Traceback (most recent call last)",
      "\u001b[36mCell\u001b[39m\u001b[36m \u001b[39m\u001b[32mIn[66]\u001b[39m\u001b[32m, line 38\u001b[39m\n\u001b[32m     34\u001b[39m xerr = np.vstack([agg[\u001b[33m\"\u001b[39m\u001b[33mintensity_mean\u001b[39m\u001b[33m\"\u001b[39m] - agg[\u001b[33m\"\u001b[39m\u001b[33mintensity_min\u001b[39m\u001b[33m\"\u001b[39m],\n\u001b[32m     35\u001b[39m                   agg[\u001b[33m\"\u001b[39m\u001b[33mintensity_max\u001b[39m\u001b[33m\"\u001b[39m] - agg[\u001b[33m\"\u001b[39m\u001b[33mintensity_mean\u001b[39m\u001b[33m\"\u001b[39m]]).astype(\u001b[38;5;28mfloat\u001b[39m)\n\u001b[32m     36\u001b[39m xerr = np.nan_to_num(xerr, nan=\u001b[32m0.0\u001b[39m, posinf=\u001b[32m0.0\u001b[39m, neginf=\u001b[32m0.0\u001b[39m)\n\u001b[32m---> \u001b[39m\u001b[32m38\u001b[39m \u001b[43mplt\u001b[49m\u001b[43m.\u001b[49m\u001b[43merrorbar\u001b[49m\u001b[43m(\u001b[49m\u001b[43mx\u001b[49m\u001b[43m[\u001b[49m\u001b[32;43m0\u001b[39;49m\u001b[43m]\u001b[49m\u001b[43m,\u001b[49m\u001b[43m \u001b[49m\u001b[43my_mean_gf\u001b[49m\u001b[43m[\u001b[49m\u001b[32;43m0\u001b[39;49m\u001b[43m]\u001b[49m\u001b[43m,\u001b[49m\u001b[43m \u001b[49m\u001b[43mxerr\u001b[49m\u001b[43m=\u001b[49m\u001b[43mxerr\u001b[49m\u001b[43m[\u001b[49m\u001b[32;43m0\u001b[39;49m\u001b[43m:\u001b[49m\u001b[32;43m1\u001b[39;49m\u001b[43m]\u001b[49m\u001b[43m,\u001b[49m\u001b[43m \u001b[49m\u001b[43myerr\u001b[49m\u001b[43m=\u001b[49m\u001b[43myerr\u001b[49m\u001b[43m[\u001b[49m\u001b[32;43m0\u001b[39;49m\u001b[43m:\u001b[49m\u001b[32;43m1\u001b[39;49m\u001b[43m]\u001b[49m\u001b[43m,\u001b[49m\u001b[43m \u001b[49m\u001b[43mfmt\u001b[49m\u001b[43m=\u001b[49m\u001b[33;43m'\u001b[39;49m\u001b[33;43mo\u001b[39;49m\u001b[33;43m'\u001b[39;49m\u001b[43m,\u001b[49m\u001b[43m \u001b[49m\u001b[43mcapsize\u001b[49m\u001b[43m=\u001b[49m\u001b[32;43m3\u001b[39;49m\u001b[43m,\u001b[49m\n\u001b[32m     39\u001b[39m \u001b[43m             \u001b[49m\u001b[43mlabel\u001b[49m\u001b[43m=\u001b[49m\u001b[33;43m\"\u001b[39;49m\u001b[33;43m(nx, ny) means ± [min,max]\u001b[39;49m\u001b[33;43m\"\u001b[39;49m\u001b[43m)\u001b[49m\n\u001b[32m     41\u001b[39m \u001b[38;5;66;03m# Roofline (CPU) in GFLOP/s\u001b[39;00m\n\u001b[32m     42\u001b[39m plt.plot(xs, roof_cpu_gflops, linewidth=\u001b[32m1.5\u001b[39m, color = \u001b[33m\"\u001b[39m\u001b[33mblack\u001b[39m\u001b[33m\"\u001b[39m,\n\u001b[32m     43\u001b[39m          label=\u001b[33mf\u001b[39m\u001b[33m\"\u001b[39m\u001b[33mCPU roofline (per node)\u001b[39m\u001b[38;5;130;01m\\n\u001b[39;00m\u001b[33mB≈\u001b[39m\u001b[38;5;132;01m{\u001b[39;00mB_CPU/\u001b[32m1e9\u001b[39m\u001b[38;5;132;01m:\u001b[39;00m\u001b[33m.2f\u001b[39m\u001b[38;5;132;01m}\u001b[39;00m\u001b[33m GB/s, P≈\u001b[39m\u001b[38;5;132;01m{\u001b[39;00mP_CPU_GF\u001b[38;5;132;01m:\u001b[39;00m\u001b[33m.2f\u001b[39m\u001b[38;5;132;01m}\u001b[39;00m\u001b[33m GFLOP/s\u001b[39m\u001b[33m\"\u001b[39m)\n",
      "\u001b[36mFile \u001b[39m\u001b[32m~/HPC4WC_venv/lib/python3.12/site-packages/matplotlib/_api/deprecation.py:453\u001b[39m, in \u001b[36mmake_keyword_only.<locals>.wrapper\u001b[39m\u001b[34m(*args, **kwargs)\u001b[39m\n\u001b[32m    447\u001b[39m \u001b[38;5;28;01mif\u001b[39;00m \u001b[38;5;28mlen\u001b[39m(args) > name_idx:\n\u001b[32m    448\u001b[39m     warn_deprecated(\n\u001b[32m    449\u001b[39m         since, message=\u001b[33m\"\u001b[39m\u001b[33mPassing the \u001b[39m\u001b[38;5;132;01m%(name)s\u001b[39;00m\u001b[33m \u001b[39m\u001b[38;5;132;01m%(obj_type)s\u001b[39;00m\u001b[33m \u001b[39m\u001b[33m\"\u001b[39m\n\u001b[32m    450\u001b[39m         \u001b[33m\"\u001b[39m\u001b[33mpositionally is deprecated since Matplotlib \u001b[39m\u001b[38;5;132;01m%(since)s\u001b[39;00m\u001b[33m; the \u001b[39m\u001b[33m\"\u001b[39m\n\u001b[32m    451\u001b[39m         \u001b[33m\"\u001b[39m\u001b[33mparameter will become keyword-only in \u001b[39m\u001b[38;5;132;01m%(removal)s\u001b[39;00m\u001b[33m.\u001b[39m\u001b[33m\"\u001b[39m,\n\u001b[32m    452\u001b[39m         name=name, obj_type=\u001b[33mf\u001b[39m\u001b[33m\"\u001b[39m\u001b[33mparameter of \u001b[39m\u001b[38;5;132;01m{\u001b[39;00mfunc.\u001b[34m__name__\u001b[39m\u001b[38;5;132;01m}\u001b[39;00m\u001b[33m()\u001b[39m\u001b[33m\"\u001b[39m)\n\u001b[32m--> \u001b[39m\u001b[32m453\u001b[39m \u001b[38;5;28;01mreturn\u001b[39;00m \u001b[43mfunc\u001b[49m\u001b[43m(\u001b[49m\u001b[43m*\u001b[49m\u001b[43margs\u001b[49m\u001b[43m,\u001b[49m\u001b[43m \u001b[49m\u001b[43m*\u001b[49m\u001b[43m*\u001b[49m\u001b[43mkwargs\u001b[49m\u001b[43m)\u001b[49m\n",
      "\u001b[36mFile \u001b[39m\u001b[32m~/HPC4WC_venv/lib/python3.12/site-packages/matplotlib/pyplot.py:3282\u001b[39m, in \u001b[36merrorbar\u001b[39m\u001b[34m(x, y, yerr, xerr, fmt, ecolor, elinewidth, capsize, barsabove, lolims, uplims, xlolims, xuplims, errorevery, capthick, data, **kwargs)\u001b[39m\n\u001b[32m   3261\u001b[39m \u001b[38;5;129m@_copy_docstring_and_deprecators\u001b[39m(Axes.errorbar)\n\u001b[32m   3262\u001b[39m \u001b[38;5;28;01mdef\u001b[39;00m\u001b[38;5;250m \u001b[39m\u001b[34merrorbar\u001b[39m(\n\u001b[32m   3263\u001b[39m     x: \u001b[38;5;28mfloat\u001b[39m | ArrayLike,\n\u001b[32m   (...)\u001b[39m\u001b[32m   3280\u001b[39m     **kwargs,\n\u001b[32m   3281\u001b[39m ) -> ErrorbarContainer:\n\u001b[32m-> \u001b[39m\u001b[32m3282\u001b[39m     \u001b[38;5;28;01mreturn\u001b[39;00m \u001b[43mgca\u001b[49m\u001b[43m(\u001b[49m\u001b[43m)\u001b[49m\u001b[43m.\u001b[49m\u001b[43merrorbar\u001b[49m\u001b[43m(\u001b[49m\n\u001b[32m   3283\u001b[39m \u001b[43m        \u001b[49m\u001b[43mx\u001b[49m\u001b[43m,\u001b[49m\n\u001b[32m   3284\u001b[39m \u001b[43m        \u001b[49m\u001b[43my\u001b[49m\u001b[43m,\u001b[49m\n\u001b[32m   3285\u001b[39m \u001b[43m        \u001b[49m\u001b[43myerr\u001b[49m\u001b[43m=\u001b[49m\u001b[43myerr\u001b[49m\u001b[43m,\u001b[49m\n\u001b[32m   3286\u001b[39m \u001b[43m        \u001b[49m\u001b[43mxerr\u001b[49m\u001b[43m=\u001b[49m\u001b[43mxerr\u001b[49m\u001b[43m,\u001b[49m\n\u001b[32m   3287\u001b[39m \u001b[43m        \u001b[49m\u001b[43mfmt\u001b[49m\u001b[43m=\u001b[49m\u001b[43mfmt\u001b[49m\u001b[43m,\u001b[49m\n\u001b[32m   3288\u001b[39m \u001b[43m        \u001b[49m\u001b[43mecolor\u001b[49m\u001b[43m=\u001b[49m\u001b[43mecolor\u001b[49m\u001b[43m,\u001b[49m\n\u001b[32m   3289\u001b[39m \u001b[43m        \u001b[49m\u001b[43melinewidth\u001b[49m\u001b[43m=\u001b[49m\u001b[43melinewidth\u001b[49m\u001b[43m,\u001b[49m\n\u001b[32m   3290\u001b[39m \u001b[43m        \u001b[49m\u001b[43mcapsize\u001b[49m\u001b[43m=\u001b[49m\u001b[43mcapsize\u001b[49m\u001b[43m,\u001b[49m\n\u001b[32m   3291\u001b[39m \u001b[43m        \u001b[49m\u001b[43mbarsabove\u001b[49m\u001b[43m=\u001b[49m\u001b[43mbarsabove\u001b[49m\u001b[43m,\u001b[49m\n\u001b[32m   3292\u001b[39m \u001b[43m        \u001b[49m\u001b[43mlolims\u001b[49m\u001b[43m=\u001b[49m\u001b[43mlolims\u001b[49m\u001b[43m,\u001b[49m\n\u001b[32m   3293\u001b[39m \u001b[43m        \u001b[49m\u001b[43muplims\u001b[49m\u001b[43m=\u001b[49m\u001b[43muplims\u001b[49m\u001b[43m,\u001b[49m\n\u001b[32m   3294\u001b[39m \u001b[43m        \u001b[49m\u001b[43mxlolims\u001b[49m\u001b[43m=\u001b[49m\u001b[43mxlolims\u001b[49m\u001b[43m,\u001b[49m\n\u001b[32m   3295\u001b[39m \u001b[43m        \u001b[49m\u001b[43mxuplims\u001b[49m\u001b[43m=\u001b[49m\u001b[43mxuplims\u001b[49m\u001b[43m,\u001b[49m\n\u001b[32m   3296\u001b[39m \u001b[43m        \u001b[49m\u001b[43merrorevery\u001b[49m\u001b[43m=\u001b[49m\u001b[43merrorevery\u001b[49m\u001b[43m,\u001b[49m\n\u001b[32m   3297\u001b[39m \u001b[43m        \u001b[49m\u001b[43mcapthick\u001b[49m\u001b[43m=\u001b[49m\u001b[43mcapthick\u001b[49m\u001b[43m,\u001b[49m\n\u001b[32m   3298\u001b[39m \u001b[43m        \u001b[49m\u001b[43m*\u001b[49m\u001b[43m*\u001b[49m\u001b[43m(\u001b[49m\u001b[43m{\u001b[49m\u001b[33;43m\"\u001b[39;49m\u001b[33;43mdata\u001b[39;49m\u001b[33;43m\"\u001b[39;49m\u001b[43m:\u001b[49m\u001b[43m \u001b[49m\u001b[43mdata\u001b[49m\u001b[43m}\u001b[49m\u001b[43m \u001b[49m\u001b[38;5;28;43;01mif\u001b[39;49;00m\u001b[43m \u001b[49m\u001b[43mdata\u001b[49m\u001b[43m \u001b[49m\u001b[38;5;129;43;01mis\u001b[39;49;00m\u001b[43m \u001b[49m\u001b[38;5;129;43;01mnot\u001b[39;49;00m\u001b[43m \u001b[49m\u001b[38;5;28;43;01mNone\u001b[39;49;00m\u001b[43m \u001b[49m\u001b[38;5;28;43;01melse\u001b[39;49;00m\u001b[43m \u001b[49m\u001b[43m{\u001b[49m\u001b[43m}\u001b[49m\u001b[43m)\u001b[49m\u001b[43m,\u001b[49m\n\u001b[32m   3299\u001b[39m \u001b[43m        \u001b[49m\u001b[43m*\u001b[49m\u001b[43m*\u001b[49m\u001b[43mkwargs\u001b[49m\u001b[43m,\u001b[49m\n\u001b[32m   3300\u001b[39m \u001b[43m    \u001b[49m\u001b[43m)\u001b[49m\n",
      "\u001b[36mFile \u001b[39m\u001b[32m~/HPC4WC_venv/lib/python3.12/site-packages/matplotlib/_api/deprecation.py:453\u001b[39m, in \u001b[36mmake_keyword_only.<locals>.wrapper\u001b[39m\u001b[34m(*args, **kwargs)\u001b[39m\n\u001b[32m    447\u001b[39m \u001b[38;5;28;01mif\u001b[39;00m \u001b[38;5;28mlen\u001b[39m(args) > name_idx:\n\u001b[32m    448\u001b[39m     warn_deprecated(\n\u001b[32m    449\u001b[39m         since, message=\u001b[33m\"\u001b[39m\u001b[33mPassing the \u001b[39m\u001b[38;5;132;01m%(name)s\u001b[39;00m\u001b[33m \u001b[39m\u001b[38;5;132;01m%(obj_type)s\u001b[39;00m\u001b[33m \u001b[39m\u001b[33m\"\u001b[39m\n\u001b[32m    450\u001b[39m         \u001b[33m\"\u001b[39m\u001b[33mpositionally is deprecated since Matplotlib \u001b[39m\u001b[38;5;132;01m%(since)s\u001b[39;00m\u001b[33m; the \u001b[39m\u001b[33m\"\u001b[39m\n\u001b[32m    451\u001b[39m         \u001b[33m\"\u001b[39m\u001b[33mparameter will become keyword-only in \u001b[39m\u001b[38;5;132;01m%(removal)s\u001b[39;00m\u001b[33m.\u001b[39m\u001b[33m\"\u001b[39m,\n\u001b[32m    452\u001b[39m         name=name, obj_type=\u001b[33mf\u001b[39m\u001b[33m\"\u001b[39m\u001b[33mparameter of \u001b[39m\u001b[38;5;132;01m{\u001b[39;00mfunc.\u001b[34m__name__\u001b[39m\u001b[38;5;132;01m}\u001b[39;00m\u001b[33m()\u001b[39m\u001b[33m\"\u001b[39m)\n\u001b[32m--> \u001b[39m\u001b[32m453\u001b[39m \u001b[38;5;28;01mreturn\u001b[39;00m \u001b[43mfunc\u001b[49m\u001b[43m(\u001b[49m\u001b[43m*\u001b[49m\u001b[43margs\u001b[49m\u001b[43m,\u001b[49m\u001b[43m \u001b[49m\u001b[43m*\u001b[49m\u001b[43m*\u001b[49m\u001b[43mkwargs\u001b[49m\u001b[43m)\u001b[49m\n",
      "\u001b[36mFile \u001b[39m\u001b[32m~/HPC4WC_venv/lib/python3.12/site-packages/matplotlib/__init__.py:1521\u001b[39m, in \u001b[36m_preprocess_data.<locals>.inner\u001b[39m\u001b[34m(ax, data, *args, **kwargs)\u001b[39m\n\u001b[32m   1518\u001b[39m \u001b[38;5;129m@functools\u001b[39m.wraps(func)\n\u001b[32m   1519\u001b[39m \u001b[38;5;28;01mdef\u001b[39;00m\u001b[38;5;250m \u001b[39m\u001b[34minner\u001b[39m(ax, *args, data=\u001b[38;5;28;01mNone\u001b[39;00m, **kwargs):\n\u001b[32m   1520\u001b[39m     \u001b[38;5;28;01mif\u001b[39;00m data \u001b[38;5;129;01mis\u001b[39;00m \u001b[38;5;28;01mNone\u001b[39;00m:\n\u001b[32m-> \u001b[39m\u001b[32m1521\u001b[39m         \u001b[38;5;28;01mreturn\u001b[39;00m \u001b[43mfunc\u001b[49m\u001b[43m(\u001b[49m\n\u001b[32m   1522\u001b[39m \u001b[43m            \u001b[49m\u001b[43max\u001b[49m\u001b[43m,\u001b[49m\n\u001b[32m   1523\u001b[39m \u001b[43m            \u001b[49m\u001b[43m*\u001b[49m\u001b[38;5;28;43mmap\u001b[39;49m\u001b[43m(\u001b[49m\u001b[43mcbook\u001b[49m\u001b[43m.\u001b[49m\u001b[43msanitize_sequence\u001b[49m\u001b[43m,\u001b[49m\u001b[43m \u001b[49m\u001b[43margs\u001b[49m\u001b[43m)\u001b[49m\u001b[43m,\u001b[49m\n\u001b[32m   1524\u001b[39m \u001b[43m            \u001b[49m\u001b[43m*\u001b[49m\u001b[43m*\u001b[49m\u001b[43m{\u001b[49m\u001b[43mk\u001b[49m\u001b[43m:\u001b[49m\u001b[43m \u001b[49m\u001b[43mcbook\u001b[49m\u001b[43m.\u001b[49m\u001b[43msanitize_sequence\u001b[49m\u001b[43m(\u001b[49m\u001b[43mv\u001b[49m\u001b[43m)\u001b[49m\u001b[43m \u001b[49m\u001b[38;5;28;43;01mfor\u001b[39;49;00m\u001b[43m \u001b[49m\u001b[43mk\u001b[49m\u001b[43m,\u001b[49m\u001b[43m \u001b[49m\u001b[43mv\u001b[49m\u001b[43m \u001b[49m\u001b[38;5;129;43;01min\u001b[39;49;00m\u001b[43m \u001b[49m\u001b[43mkwargs\u001b[49m\u001b[43m.\u001b[49m\u001b[43mitems\u001b[49m\u001b[43m(\u001b[49m\u001b[43m)\u001b[49m\u001b[43m}\u001b[49m\u001b[43m)\u001b[49m\n\u001b[32m   1526\u001b[39m     bound = new_sig.bind(ax, *args, **kwargs)\n\u001b[32m   1527\u001b[39m     auto_label = (bound.arguments.get(label_namer)\n\u001b[32m   1528\u001b[39m                   \u001b[38;5;129;01mor\u001b[39;00m bound.kwargs.get(label_namer))\n",
      "\u001b[36mFile \u001b[39m\u001b[32m~/HPC4WC_venv/lib/python3.12/site-packages/matplotlib/axes/_axes.py:3807\u001b[39m, in \u001b[36mAxes.errorbar\u001b[39m\u001b[34m(self, x, y, yerr, xerr, fmt, ecolor, elinewidth, capsize, barsabove, lolims, uplims, xlolims, xuplims, errorevery, capthick, **kwargs)\u001b[39m\n\u001b[32m   3805\u001b[39m     np.broadcast_to(err, (\u001b[32m2\u001b[39m, \u001b[38;5;28mlen\u001b[39m(dep)))\n\u001b[32m   3806\u001b[39m \u001b[38;5;28;01mexcept\u001b[39;00m \u001b[38;5;167;01mValueError\u001b[39;00m:\n\u001b[32m-> \u001b[39m\u001b[32m3807\u001b[39m     \u001b[38;5;28;01mraise\u001b[39;00m \u001b[38;5;167;01mValueError\u001b[39;00m(\n\u001b[32m   3808\u001b[39m         \u001b[33mf\u001b[39m\u001b[33m\"\u001b[39m\u001b[33m'\u001b[39m\u001b[38;5;132;01m{\u001b[39;00mdep_axis\u001b[38;5;132;01m}\u001b[39;00m\u001b[33merr\u001b[39m\u001b[33m'\u001b[39m\u001b[33m (shape: \u001b[39m\u001b[38;5;132;01m{\u001b[39;00mnp.shape(err)\u001b[38;5;132;01m}\u001b[39;00m\u001b[33m) must be a \u001b[39m\u001b[33m\"\u001b[39m\n\u001b[32m   3809\u001b[39m         \u001b[33mf\u001b[39m\u001b[33m\"\u001b[39m\u001b[33mscalar or a 1D or (2, n) array-like whose shape matches \u001b[39m\u001b[33m\"\u001b[39m\n\u001b[32m   3810\u001b[39m         \u001b[33mf\u001b[39m\u001b[33m\"\u001b[39m\u001b[33m'\u001b[39m\u001b[38;5;132;01m{\u001b[39;00mdep_axis\u001b[38;5;132;01m}\u001b[39;00m\u001b[33m'\u001b[39m\u001b[33m (shape: \u001b[39m\u001b[38;5;132;01m{\u001b[39;00mnp.shape(dep)\u001b[38;5;132;01m}\u001b[39;00m\u001b[33m)\u001b[39m\u001b[33m\"\u001b[39m) \u001b[38;5;28;01mfrom\u001b[39;00m\u001b[38;5;250m \u001b[39m\u001b[38;5;28;01mNone\u001b[39;00m\n\u001b[32m   3811\u001b[39m \u001b[38;5;28;01mif\u001b[39;00m err.dtype \u001b[38;5;129;01mis\u001b[39;00m np.dtype(\u001b[38;5;28mobject\u001b[39m) \u001b[38;5;129;01mand\u001b[39;00m np.any(err == \u001b[38;5;28;01mNone\u001b[39;00m):  \u001b[38;5;66;03m# noqa: E711\u001b[39;00m\n\u001b[32m   3812\u001b[39m     \u001b[38;5;28;01mraise\u001b[39;00m \u001b[38;5;167;01mValueError\u001b[39;00m(\n\u001b[32m   3813\u001b[39m         \u001b[33mf\u001b[39m\u001b[33m\"\u001b[39m\u001b[33m'\u001b[39m\u001b[38;5;132;01m{\u001b[39;00mdep_axis\u001b[38;5;132;01m}\u001b[39;00m\u001b[33merr\u001b[39m\u001b[33m'\u001b[39m\u001b[33m must not contain None. \u001b[39m\u001b[33m\"\u001b[39m\n\u001b[32m   3814\u001b[39m         \u001b[33m\"\u001b[39m\u001b[33mUse NaN if you want to skip a value.\u001b[39m\u001b[33m\"\u001b[39m)\n",
      "\u001b[31mValueError\u001b[39m: 'xerr' (shape: (1, 2)) must be a scalar or a 1D or (2, n) array-like whose shape matches 'x' (shape: (1,))"
     ]
    },
    {
     "data": {
      "image/png": "[encoded data removed]",
      "text/plain": [
       "<Figure size 900x600 with 1 Axes>"
      ]
     },
     "metadata": {},
     "output_type": "display_data"
    }
   ],
   "source": [
    "import matplotlib.pyplot as plt\n",
    "\n",
    "# --------------------------- Roofline setup ---------------------------\n",
    "B_CPU = BW_PER_GRACE_CPU              # bytes/s\n",
    "P_CPU = PEAK_FP64_PER_GRACE_CPU       # flop/s\n",
    "ridge_x = P_CPU / B_CPU               # FLOP/Byte at ridge\n",
    "\n",
    "# x-range using observed intensities and ridge\n",
    "obs_min = agg[\"intensity_min\"].replace([np.inf, -np.inf], np.nan).min()\n",
    "obs_max = agg[\"intensity_max\"].replace([np.inf, -np.inf], np.nan).max()\n",
    "if not np.isfinite(obs_min) or obs_min <= 0: obs_min = 1e-6\n",
    "if not np.isfinite(obs_max) or obs_max <= 0: obs_max = 10.0\n",
    "\n",
    "x_min = min(obs_min, ridge_x) * 0.5\n",
    "x_max = max(obs_max, ridge_x) * 2.0\n",
    "xs = np.logspace(np.log10(x_min), np.log10(x_max), 512)\n",
    "\n",
    "# Roofline curve in GFLOP/s (divide by 1e9)\n",
    "roof_cpu_gflops = np.minimum(P_CPU, B_CPU * xs) / 1e9\n",
    "P_CPU_GF = P_CPU / 1e9  # GFLOP/s for legend\n",
    "\n",
    "# ------------------------------- Plot --------------------------------\n",
    "plt.figure(figsize=(9, 6))\n",
    "\n",
    "# Convert grouped performance from FLOP/s to GFLOP/s for plotting\n",
    "y_mean_gf = agg[\"perf_mean\"].to_numpy()\n",
    "y_min_gf  = agg[\"perf_min\"].to_numpy()\n",
    "y_max_gf  = agg[\"perf_max\"].to_numpy()\n",
    "yerr = np.vstack([y_mean_gf - y_min_gf, y_max_gf - y_mean_gf]).astype(float)\n",
    "yerr = np.nan_to_num(yerr, nan=0.0, posinf=0.0, neginf=0.0)\n",
    "\n",
    "# X remains intensity (FLOP/Byte); use asymmetric error bars\n",
    "x = agg[\"intensity_mean\"].to_numpy()\n",
    "xerr = np.vstack([agg[\"intensity_mean\"] - agg[\"intensity_min\"],\n",
    "                  agg[\"intensity_max\"] - agg[\"intensity_mean\"]]).astype(float)\n",
    "xerr = np.nan_to_num(xerr, nan=0.0, posinf=0.0, neginf=0.0)\n",
    "for i in lnop.arange(0, len(x)):\n",
    "    plt.errorbar(x[o], y_mean_gf[o], xerr=xerr, yerr=yerr, fmt='o', capsize=3,\n",
    "                 label=\"(nx, ny) means ± [min,max]\")\n",
    "\n",
    "# Roofline (CPU) in GFLOP/s\n",
    "plt.plot(xs, roof_cpu_gflops, linewidth=1.5, color = \"black\",\n",
    "         label=f\"CPU roofline (per node)\\nB≈{B_CPU/1e9:.2f} GB/s, P≈{P_CPU_GF:.2f} GFLOP/s\")\n",
    "\n",
    "# Ridge marker (x only; y value is roof at ridge)\n",
    "plt.axvline(ridge_x, linestyle='--', linewidth=1, color = \"red\")\n",
    "# Interpolate y for label\n",
    "y_ridge = np.interp(ridge_x, xs, roof_cpu_gflops)\n",
    "#plt.text(ridge_x, y_ridge, \" ridge\", rotation=90, va='bottom', ha='left')\n",
    "\n",
    "# Axes, labels, style\n",
    "plt.xscale('log', base=2); plt.yscale('log', base=2)\n",
    "plt.xlabel(\"Operational intensity (FLOP / Byte)\")\n",
    "plt.ylabel(\"Performance (GFLOP/s)\")\n",
    "plt.title(\"Roofline Model — Santis\")\n",
    "plt.grid(True, which='both', linestyle=':')\n",
    "plt.legend()\n",
    "plt.tight_layout()\n",
    "\n",
    "plt.text(ridge_x-1.5, 2**5, 'memory bound', color='red', fontsize=12, rotation=90, va='bottom', ha='left')\n",
    "plt.text(ridge_x+1.05, 2**5, 'compute bound', color='red', fontsize=12, rotation=90, va='bottom', ha='left')\n",
    "\n",
    "plt.savefig(PLOT_PNG, dpi=200)\n",
    "plt.show()\n",
    "\n",
    "print(f\"Saved roofline plot -> {PLOT_PNG}\")\n",
    "print(f\"Ridge intensity ≈ {ridge_x:.3g} FLOP/Byte;  B≈{B_CPU/1e9:.2f} GB/s,  P≈{P_CPU_GF:.2f} GFLOP/s\")"
   ]
  },
  {
   "cell_type": "code",
   "execution_count": null,
   "id": "c07d869e-2a27-4453-8237-634a00e00ea6",
   "metadata": {},
   "outputs": [],
   "source": []
  }
 ],
 "metadata": {
  "kernelspec": {
   "display_name": "HPC4WC_kernel",
   "language": "python",
   "name": "hpc4wc_kernel"
  },
  "language_info": {
   "codemirror_mode": {
    "name": "ipython",
    "version": 3
   },
   "file_extension": ".py",
   "mimetype": "text/x-python",
   "name": "python",
   "nbconvert_exporter": "python",
   "pygments_lexer": "ipython3",
   "version": "3.12.5"
  }
 },
 "nbformat": 4,
 "nbformat_minor": 5
}
